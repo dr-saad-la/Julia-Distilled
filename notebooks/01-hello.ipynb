{
 "cells": [
  {
   "cell_type": "markdown",
   "id": "f0c9759a-0352-4db8-8387-c8f909a2dd31",
   "metadata": {},
   "source": [
    "## Julia Hello Program"
   ]
  },
  {
   "cell_type": "code",
   "execution_count": 1,
   "id": "184bbf8e-49e4-40a3-9b69-434dc0842cd1",
   "metadata": {
    "tags": []
   },
   "outputs": [
    {
     "name": "stdout",
     "output_type": "stream",
     "text": [
      "Hello world!\n"
     ]
    }
   ],
   "source": [
    "# Create a hello world program in Julia\n",
    "println(\"Hello world!\")                 # run this cell using shift + return key"
   ]
  },
  {
   "cell_type": "code",
   "execution_count": 2,
   "id": "bdd332bb-7fec-4269-9e36-b6b4716128ec",
   "metadata": {
    "tags": []
   },
   "outputs": [
    {
     "name": "stdout",
     "output_type": "stream",
     "text": [
      "I am julia, and I am running through Julia notebook kernel\n"
     ]
    }
   ],
   "source": [
    "# add few print statements\n",
    "println(\"I am julia, and I am running through Julia notebook kernel\")"
   ]
  },
  {
   "cell_type": "code",
   "execution_count": 3,
   "id": "5bcbb1ed-31aa-44bd-9f94-9d5ca4c02648",
   "metadata": {
    "tags": []
   },
   "outputs": [
    {
     "name": "stdout",
     "output_type": "stream",
     "text": [
      "I am a Julia developer and proud!\n"
     ]
    }
   ],
   "source": [
    "# Add another one\n",
    "println(\"I am a Julia developer and proud!\")"
   ]
  },
  {
   "cell_type": "code",
   "execution_count": 4,
   "id": "ffd70201-08c3-42cf-9c5f-a6912e4d33ad",
   "metadata": {
    "tags": []
   },
   "outputs": [],
   "source": [
    "# You can get help for the println help like this"
   ]
  },
  {
   "cell_type": "code",
   "execution_count": 5,
   "id": "2cb87563-6e2c-4352-bbf2-64fcf0ca54c3",
   "metadata": {
    "tags": []
   },
   "outputs": [
    {
     "name": "stdout",
     "output_type": "stream",
     "text": [
      "search: \u001b[0m\u001b[1mp\u001b[22m\u001b[0m\u001b[1mr\u001b[22m\u001b[0m\u001b[1mi\u001b[22m\u001b[0m\u001b[1mn\u001b[22m\u001b[0m\u001b[1mt\u001b[22m\u001b[0m\u001b[1ml\u001b[22m\u001b[0m\u001b[1mn\u001b[22m \u001b[0m\u001b[1mp\u001b[22m\u001b[0m\u001b[1mr\u001b[22m\u001b[0m\u001b[1mi\u001b[22m\u001b[0m\u001b[1mn\u001b[22m\u001b[0m\u001b[1mt\u001b[22msty\u001b[0m\u001b[1ml\u001b[22med \u001b[0m\u001b[1mp\u001b[22m\u001b[0m\u001b[1mr\u001b[22m\u001b[0m\u001b[1mi\u001b[22m\u001b[0m\u001b[1mn\u001b[22m\u001b[0m\u001b[1mt\u001b[22m s\u001b[0m\u001b[1mp\u001b[22m\u001b[0m\u001b[1mr\u001b[22m\u001b[0m\u001b[1mi\u001b[22m\u001b[0m\u001b[1mn\u001b[22m\u001b[0m\u001b[1mt\u001b[22m is\u001b[0m\u001b[1mp\u001b[22m\u001b[0m\u001b[1mr\u001b[22m\u001b[0m\u001b[1mi\u001b[22m\u001b[0m\u001b[1mn\u001b[22m\u001b[0m\u001b[1mt\u001b[22m\n",
      "\n"
     ]
    },
    {
     "data": {
      "text/latex": [
       "\\begin{verbatim}\n",
       "println([io::IO], xs...)\n",
       "\\end{verbatim}\n",
       "Print (using \\href{@ref}{\\texttt{print}}) \\texttt{xs} to \\texttt{io} followed by a newline. If \\texttt{io} is not supplied, prints to the default output stream \\href{@ref}{\\texttt{stdout}}.\n",
       "\n",
       "See also \\href{@ref}{\\texttt{printstyled}} to add colors etc.\n",
       "\n",
       "\\section{Examples}\n",
       "\\begin{verbatim}\n",
       "julia> println(\"Hello, world\")\n",
       "Hello, world\n",
       "\n",
       "julia> io = IOBuffer();\n",
       "\n",
       "julia> println(io, \"Hello\", ',', \" world.\")\n",
       "\n",
       "julia> String(take!(io))\n",
       "\"Hello, world.\\n\"\n",
       "\\end{verbatim}\n"
      ],
      "text/markdown": [
       "```\n",
       "println([io::IO], xs...)\n",
       "```\n",
       "\n",
       "Print (using [`print`](@ref)) `xs` to `io` followed by a newline. If `io` is not supplied, prints to the default output stream [`stdout`](@ref).\n",
       "\n",
       "See also [`printstyled`](@ref) to add colors etc.\n",
       "\n",
       "# Examples\n",
       "\n",
       "```jldoctest\n",
       "julia> println(\"Hello, world\")\n",
       "Hello, world\n",
       "\n",
       "julia> io = IOBuffer();\n",
       "\n",
       "julia> println(io, \"Hello\", ',', \" world.\")\n",
       "\n",
       "julia> String(take!(io))\n",
       "\"Hello, world.\\n\"\n",
       "```\n"
      ],
      "text/plain": [
       "\u001b[36m  println([io::IO], xs...)\u001b[39m\n",
       "\n",
       "  Print (using \u001b[36mprint\u001b[39m) \u001b[36mxs\u001b[39m to \u001b[36mio\u001b[39m followed by a newline. If \u001b[36mio\u001b[39m is not supplied,\n",
       "  prints to the default output stream \u001b[36mstdout\u001b[39m.\n",
       "\n",
       "  See also \u001b[36mprintstyled\u001b[39m to add colors etc.\n",
       "\n",
       "\u001b[1m  Examples\u001b[22m\n",
       "\u001b[1m  ≡≡≡≡≡≡≡≡\u001b[22m\n",
       "\n",
       "\u001b[36m  julia> println(\"Hello, world\")\u001b[39m\n",
       "\u001b[36m  Hello, world\u001b[39m\n",
       "\u001b[36m  \u001b[39m\n",
       "\u001b[36m  julia> io = IOBuffer();\u001b[39m\n",
       "\u001b[36m  \u001b[39m\n",
       "\u001b[36m  julia> println(io, \"Hello\", ',', \" world.\")\u001b[39m\n",
       "\u001b[36m  \u001b[39m\n",
       "\u001b[36m  julia> String(take!(io))\u001b[39m\n",
       "\u001b[36m  \"Hello, world.\\n\"\u001b[39m"
      ]
     },
     "execution_count": 5,
     "metadata": {},
     "output_type": "execute_result"
    }
   ],
   "source": [
    "?println"
   ]
  },
  {
   "cell_type": "code",
   "execution_count": 6,
   "id": "0115d7e3-86a3-431b-8bfd-37b5da3db326",
   "metadata": {
    "tags": []
   },
   "outputs": [
    {
     "data": {
      "text/latex": [
       "\\begin{verbatim}\n",
       "println([io::IO], xs...)\n",
       "\\end{verbatim}\n",
       "Print (using \\href{@ref}{\\texttt{print}}) \\texttt{xs} to \\texttt{io} followed by a newline. If \\texttt{io} is not supplied, prints to the default output stream \\href{@ref}{\\texttt{stdout}}.\n",
       "\n",
       "See also \\href{@ref}{\\texttt{printstyled}} to add colors etc.\n",
       "\n",
       "\\section{Examples}\n",
       "\\begin{verbatim}\n",
       "julia> println(\"Hello, world\")\n",
       "Hello, world\n",
       "\n",
       "julia> io = IOBuffer();\n",
       "\n",
       "julia> println(io, \"Hello\", ',', \" world.\")\n",
       "\n",
       "julia> String(take!(io))\n",
       "\"Hello, world.\\n\"\n",
       "\\end{verbatim}\n"
      ],
      "text/markdown": [
       "```\n",
       "println([io::IO], xs...)\n",
       "```\n",
       "\n",
       "Print (using [`print`](@ref)) `xs` to `io` followed by a newline. If `io` is not supplied, prints to the default output stream [`stdout`](@ref).\n",
       "\n",
       "See also [`printstyled`](@ref) to add colors etc.\n",
       "\n",
       "# Examples\n",
       "\n",
       "```jldoctest\n",
       "julia> println(\"Hello, world\")\n",
       "Hello, world\n",
       "\n",
       "julia> io = IOBuffer();\n",
       "\n",
       "julia> println(io, \"Hello\", ',', \" world.\")\n",
       "\n",
       "julia> String(take!(io))\n",
       "\"Hello, world.\\n\"\n",
       "```\n"
      ],
      "text/plain": [
       "\u001b[36m  println([io::IO], xs...)\u001b[39m\n",
       "\n",
       "  Print (using \u001b[36mprint\u001b[39m) \u001b[36mxs\u001b[39m to \u001b[36mio\u001b[39m followed by a newline. If \u001b[36mio\u001b[39m is not supplied,\n",
       "  prints to the default output stream \u001b[36mstdout\u001b[39m.\n",
       "\n",
       "  See also \u001b[36mprintstyled\u001b[39m to add colors etc.\n",
       "\n",
       "\u001b[1m  Examples\u001b[22m\n",
       "\u001b[1m  ≡≡≡≡≡≡≡≡\u001b[22m\n",
       "\n",
       "\u001b[36m  julia> println(\"Hello, world\")\u001b[39m\n",
       "\u001b[36m  Hello, world\u001b[39m\n",
       "\u001b[36m  \u001b[39m\n",
       "\u001b[36m  julia> io = IOBuffer();\u001b[39m\n",
       "\u001b[36m  \u001b[39m\n",
       "\u001b[36m  julia> println(io, \"Hello\", ',', \" world.\")\u001b[39m\n",
       "\u001b[36m  \u001b[39m\n",
       "\u001b[36m  julia> String(take!(io))\u001b[39m\n",
       "\u001b[36m  \"Hello, world.\\n\"\u001b[39m"
      ]
     },
     "execution_count": 6,
     "metadata": {},
     "output_type": "execute_result"
    }
   ],
   "source": [
    "# or you can use @doc \n",
    "@doc println "
   ]
  }
 ],
 "metadata": {
  "kernelspec": {
   "display_name": "julia 1.10.4",
   "language": "julia",
   "name": "julia-1.10"
  },
  "language_info": {
   "file_extension": ".jl",
   "mimetype": "application/julia",
   "name": "julia",
   "version": "1.10.4"
  }
 },
 "nbformat": 4,
 "nbformat_minor": 5
}
