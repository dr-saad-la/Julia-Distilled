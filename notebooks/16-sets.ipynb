{
 "cells": [
  {
   "cell_type": "code",
   "execution_count": 1,
   "id": "016bea36-6b11-41a1-b088-f82c6a6160c4",
   "metadata": {
    "tags": []
   },
   "outputs": [],
   "source": [
    "# ---------------------------------------------------------- \n",
    "#    Chap 01: Sets in Julia\n",
    "#    Author: Dr. Saad Laouadi\n",
    "# \n",
    "#.   Copyright to Dr Saad Laouadi\n",
    "#   Using the examples from the notebook directly into \n",
    "#.  lecture is not allowed.\n",
    "# -----------------------------------------------------------"
   ]
  },
  {
   "cell_type": "markdown",
   "id": "0fe80967-1541-41f9-a238-eaaaf06451ad",
   "metadata": {},
   "source": [
    "## Sets in Julia "
   ]
  },
  {
   "cell_type": "code",
   "execution_count": 2,
   "id": "25d7832c-4bd5-4059-9839-e07dbe4ab407",
   "metadata": {
    "tags": []
   },
   "outputs": [],
   "source": [
    "function print_banner(char::Char, num_chars::Int, message::String)\n",
    "    border = repeat(string(char), num_chars)\n",
    "    \n",
    "    total_padding = num_chars - length(message)\n",
    "    left_padding = total_padding ÷ 2\n",
    "    right_padding = total_padding - left_padding\n",
    "    \n",
    "    centered_message = repeat(\" \", \n",
    "        left_padding) * message * repeat(\" \", right_padding)\n",
    "    \n",
    "    println(border)\n",
    "    println(centered_message)\n",
    "    println(border)\n",
    "end;"
   ]
  },
  {
   "cell_type": "code",
   "execution_count": 3,
   "id": "ae8e71b5-5373-4712-b65e-5c999a6c519c",
   "metadata": {
    "tags": []
   },
   "outputs": [],
   "source": [
    "# Different ways to create sets\n",
    "set1 = Set([1, 2, 3, 4, 5])                 # Creating a set with specific elements\n",
    "set2 = Set{Int}()                           # Creating an empty set with specific element type\n",
    "set3 = Set([1, 2, 2, 3, 4, 4, 5])           # Creating a set with duplicate elements\n",
    "set4 = Set([\"apple\", \"banana\", \"cherry\"])   # Creating a set with strings\n",
    "set5 = Set(1:5);                             # Creating a set from a range"
   ]
  },
  {
   "cell_type": "code",
   "execution_count": 4,
   "id": "7ea82e35-f2f1-4890-9ed0-ad445bbe5e63",
   "metadata": {
    "tags": []
   },
   "outputs": [
    {
     "name": "stdout",
     "output_type": "stream",
     "text": [
      "++++++++++++++++++++++++++++++++++++++++++++++++++++++++++++\n",
      "                       Sets in Julia                        \n",
      "++++++++++++++++++++++++++++++++++++++++++++++++++++++++++++\n",
      "set1: Set([5, 4, 2, 3, 1])\n",
      "set2: Set{Int64}()\n",
      "set3: Set([5, 4, 2, 3, 1])\n",
      "set4: Set([\"cherry\", \"banana\", \"apple\"])\n",
      "set5: Set([5, 4, 2, 3, 1])\n",
      "++++++++++++++++++++++++++++++++++++++++++++++++++++++++++++++\n",
      "                  Basic Operations with Sets                  \n",
      "++++++++++++++++++++++++++++++++++++++++++++++++++++++++++++++\n",
      "  set2 after adding elements: Set([5, 4, 2, 3, 1])\n",
      "  set2 after removing an element: Set([4, 2, 3, 1])\n",
      "  Does set1 contain 3?: true\n",
      "  Does set1 contain 6?: false\n",
      "\n",
      "Set Operations:\n",
      "  Union of set1 and set5: Set([5, 4, 2, 3, 1])\n",
      "  Intersection of set1 and set5: Set([5, 4, 2, 3, 1])\n",
      "  Difference of set1 and set5: Set{Int64}()\n",
      "  Iterating over set4: \n",
      "    cherry\n",
      "    banana\n",
      "    apple\n",
      "++++++++++++++++++++++++++++++++++++++++++++++++++++++++++++++\n",
      "                   Sets with Comprehension                    \n",
      "++++++++++++++++++++++++++++++++++++++++++++++++++++++++++++++\n",
      "set_comprehension1: Set([5, 4, 2, 3, 1])\n",
      "set_comprehension2: Set([4, 16, 25, 9, 1])\n",
      "set_comprehension3: Set([4, 6, 2, 10, 8])\n",
      "++++++++++++++++++++++++++++++++++++++++++++++++++++++++++++\n"
     ]
    }
   ],
   "source": [
    "print_banner('+', 60, \"Sets in Julia\")\n",
    "\n",
    "# Displaying sets\n",
    "println(\"set1: \", set1)\n",
    "println(\"set2: \", set2)\n",
    "println(\"set3: \", set3)\n",
    "println(\"set4: \", set4)\n",
    "println(\"set5: \", set5)\n",
    "\n",
    "# Basic operations with sets\n",
    "print_banner('+', 62, \"Basic Operations with Sets\")\n",
    "\n",
    "# Adding elements\n",
    "push!(set2, 1)\n",
    "push!(set2, 2, 3, 4, 5)\n",
    "println(\"  set2 after adding elements: \", set2)\n",
    "\n",
    "# Removing elements\n",
    "pop!(set2)\n",
    "println(\"  set2 after removing an element: \", set2)\n",
    "\n",
    "# Checking if an element exists\n",
    "println(\"  Does set1 contain 3?: \", in(3, set1))\n",
    "println(\"  Does set1 contain 6?: \", in(6, set1))\n",
    "\n",
    "# Set operations\n",
    "println(\"\\nSet Operations:\")\n",
    "union_set = union(set1, set5)                # Union of sets\n",
    "println(\"  Union of set1 and set5: \", union_set)\n",
    "\n",
    "intersect_set = intersect(set1, set5)        # Intersection of sets\n",
    "println(\"  Intersection of set1 and set5: \", intersect_set)\n",
    "\n",
    "setdiff_set = setdiff(set1, set5)            # Difference of sets\n",
    "println(\"  Difference of set1 and set5: \", setdiff_set)\n",
    "\n",
    "# Iterating over elements in a set\n",
    "println(\"  Iterating over set4: \")\n",
    "for elem in set4\n",
    "    println(\"    \", elem)\n",
    "end\n",
    "\n",
    "# Creating sets using comprehensions\n",
    "print_banner('+', 62, \"Sets with Comprehension\")\n",
    "\n",
    "set_comprehension1 = Set(i for i in 1:5)                      # Simple comprehension\n",
    "set_comprehension2 = Set(i^2 for i in 1:5)                    # Squares of numbers from 1 to 5\n",
    "set_comprehension3 = Set(i for i in 1:10 if i % 2 == 0)       # Even numbers from 1 to 10\n",
    "\n",
    "# Displaying sets created using comprehensions\n",
    "println(\"set_comprehension1: \", set_comprehension1)\n",
    "println(\"set_comprehension2: \", set_comprehension2)\n",
    "println(\"set_comprehension3: \", set_comprehension3)\n",
    "\n",
    "println(repeat('+', 60))"
   ]
  },
  {
   "cell_type": "code",
   "execution_count": null,
   "id": "6c1eacdb-895a-45cb-97f1-296f3f92b3d3",
   "metadata": {},
   "outputs": [],
   "source": []
  }
 ],
 "metadata": {
  "kernelspec": {
   "display_name": "julia 1.10.4",
   "language": "julia",
   "name": "julia-1.10"
  },
  "language_info": {
   "file_extension": ".jl",
   "mimetype": "application/julia",
   "name": "julia",
   "version": "1.10.4"
  }
 },
 "nbformat": 4,
 "nbformat_minor": 5
}
