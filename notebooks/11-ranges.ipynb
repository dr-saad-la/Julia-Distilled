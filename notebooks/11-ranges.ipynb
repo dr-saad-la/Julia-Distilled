{
 "cells": [
  {
   "cell_type": "code",
   "execution_count": 1,
   "id": "016bea36-6b11-41a1-b088-f82c6a6160c4",
   "metadata": {
    "tags": []
   },
   "outputs": [],
   "source": [
    "# ---------------------------------------------------------- \n",
    "#    Chap 01: Ranges in Julia\n",
    "#    Author: Dr. Saad Laouadi\n",
    "# \n",
    "#.   Copyright to Dr Saad Laouadi\n",
    "#   Using the examples from the notebook directly into \n",
    "#.  lecture is not allowed.\n",
    "# -----------------------------------------------------------"
   ]
  },
  {
   "cell_type": "markdown",
   "id": "0fe80967-1541-41f9-a238-eaaaf06451ad",
   "metadata": {},
   "source": [
    "## Ranges in Julia "
   ]
  },
  {
   "cell_type": "code",
   "execution_count": 2,
   "id": "25d7832c-4bd5-4059-9839-e07dbe4ab407",
   "metadata": {
    "tags": []
   },
   "outputs": [],
   "source": [
    "# Code used for examples in this notebook\n",
    "using Base\n",
    "function print_banner(char::Char, num_chars::Int, message::String)\n",
    "    border = repeat(string(char), num_chars)\n",
    "    \n",
    "    total_padding = num_chars - length(message)\n",
    "    left_padding = total_padding ÷ 2\n",
    "    right_padding = total_padding - left_padding\n",
    "    \n",
    "    centered_message = repeat(\" \", \n",
    "        left_padding) * message * repeat(\" \", right_padding)\n",
    "    \n",
    "    println(border)\n",
    "    println(centered_message)\n",
    "    println(border)\n",
    "end;\n",
    "\n",
    "# Function to display the type and size of a variable\n",
    "function display_variable_info(var_name::String, var_value)\n",
    "    println(\"$var_name:\")\n",
    "    println(\"  Value       : $var_value\")\n",
    "    println(\"  Type        : $(typeof(var_value))\")\n",
    "    println(\"  Memory Size : $(sizeof(var_value)) bytes\")\n",
    "    println()\n",
    "end;"
   ]
  },
  {
   "cell_type": "code",
   "execution_count": 3,
   "id": "ae8e71b5-5373-4712-b65e-5c999a6c519c",
   "metadata": {
    "tags": []
   },
   "outputs": [
    {
     "data": {
      "text/plain": [
       "10:-1:1"
      ]
     },
     "execution_count": 3,
     "metadata": {},
     "output_type": "execute_result"
    }
   ],
   "source": [
    "# Define range variables\n",
    "range1 = 1:10                       # Range from 1 to 10\n",
    "range2 = 1:2:10                     # Range from 1 to 10 with step 2\n",
    "range3 = 10:-1:1                    # Range from 10 to 1 with step -1"
   ]
  },
  {
   "cell_type": "code",
   "execution_count": 4,
   "id": "7ea82e35-f2f1-4890-9ed0-ad445bbe5e63",
   "metadata": {
    "tags": []
   },
   "outputs": [
    {
     "name": "stdout",
     "output_type": "stream",
     "text": [
      "++++++++++++++++++++++++++++++++++++++++++++++++++++++++++++\n",
      "                      Ranges in Julia                       \n",
      "++++++++++++++++++++++++++++++++++++++++++++++++++++++++++++\n",
      "range1:\n",
      "  Value       : 1:10\n",
      "  Type        : UnitRange{Int64}\n",
      "  Memory Size : 16 bytes\n",
      "\n",
      "range2:\n",
      "  Value       : 1:2:9\n",
      "  Type        : StepRange{Int64, Int64}\n",
      "  Memory Size : 24 bytes\n",
      "\n",
      "range3:\n",
      "  Value       : 10:-1:1\n",
      "  Type        : StepRange{Int64, Int64}\n",
      "  Memory Size : 24 bytes\n",
      "\n",
      "Operations with Ranges:\n",
      "  Length of range1        : 10\n",
      "  Length of range2        : 5\n",
      "  Length of range3        : 10\n",
      "  First element of range1 : 1\n",
      "  Last element of range1  : 10\n",
      "  Third element of range2 : 5\n",
      "  Array from range1       : [1, 2, 3, 4, 5, 6, 7, 8, 9, 10]\n",
      "++++++++++++++++++++++++++++++++++++++++++++++++++++++++++++\n"
     ]
    }
   ],
   "source": [
    "print_banner('+', 60, \"Ranges in Julia\")\n",
    "\n",
    "# Display information for each range variable\n",
    "display_variable_info(\"range1\", range1)\n",
    "display_variable_info(\"range2\", range2)\n",
    "display_variable_info(\"range3\", range3)\n",
    "\n",
    "# Operations with ranges\n",
    "println(\"Operations with Ranges:\")\n",
    "\n",
    "# Length of the range\n",
    "println(\"  Length of range1        : \", length(range1))\n",
    "println(\"  Length of range2        : \", length(range2))\n",
    "println(\"  Length of range3        : \", length(range3))\n",
    "\n",
    "# Accessing elements in the range\n",
    "println(\"  First element of range1 : \", first(range1))\n",
    "println(\"  Last element of range1  : \", last(range1))\n",
    "println(\"  Third element of range2 : \", range2[3])\n",
    "\n",
    "# Converting range to array\n",
    "array_from_range1 = collect(range1)\n",
    "println(\"  Array from range1       : \", array_from_range1)\n",
    "\n",
    "println(repeat('+', 60))"
   ]
  },
  {
   "cell_type": "code",
   "execution_count": 5,
   "id": "d9001013-b560-4281-bf29-53b8239c9b09",
   "metadata": {},
   "outputs": [
    {
     "name": "stdout",
     "output_type": "stream",
     "text": [
      "++++++++++++++++++++++++++++++++++++++++++++++++++++++++++++\n",
      "               Extra Range Examples in Julia                \n",
      "++++++++++++++++++++++++++++++++++++++++++++++++++++++++++++\n",
      "range1: 1:10 => [1, 2, 3, 4, 5, 6, 7, 8, 9, 10]\n",
      "range2: 1:2:9 => [1, 3, 5, 7, 9]\n",
      "range3: 10:-1:1 => [10, 9, 8, 7, 6, 5, 4, 3, 2, 1]\n",
      "range4: 0:5:50 => [0, 5, 10, 15, 20, 25, 30, 35, 40, 45, 50]\n",
      "range5: -10:2:10 => [-10, -8, -6, -4, -2, 0, 2, 4, 6, 8, 10]\n",
      "range6: 1.0:0.5:5.0 => [1.0, 1.5, 2.0, 2.5, 3.0, 3.5, 4.0, 4.5, 5.0]\n",
      "range7: 5.0:-0.5:1.5 => [5.0, 4.5, 4.0, 3.5, 3.0, 2.5, 2.0, 1.5]\n",
      "++++++++++++++++++++++++++++++++++++++++++++++++++++++++++++++\n"
     ]
    }
   ],
   "source": [
    "# more examples about ranges in Julia\n",
    "print_banner('+', 60, \"Extra Range Examples in Julia\")\n",
    "\n",
    "# Define range variables\n",
    "range1 = 1:10                       # Range from 1 to 10\n",
    "range2 = 1:2:10                     # Range from 1 to 10 with step 2\n",
    "range3 = 10:-1:1                    # Range from 10 to 1 with step -1\n",
    "range4 = 0:5:50                     # Range from 0 to 50 with step 5\n",
    "range5 = -10:2:10                   # Range from -10 to 10 with step 2\n",
    "range6 = 1.0:0.5:5.0                # Range from 1.0 to 5.0 with step 0.5\n",
    "range7 = 5:-0.5:1.5                 # Range from 5 to 1.5 with step -0.5\n",
    "\n",
    "# Print the ranges\n",
    "println(\"range1: \", range1,\" => \", collect(range1))\n",
    "println(\"range2: \", range2,\" => \", collect(range2))\n",
    "println(\"range3: \", range3,\" => \", collect(range3))\n",
    "println(\"range4: \", range4, \" => \",collect(range4))\n",
    "println(\"range5: \", range5, \" => \",collect(range5))\n",
    "println(\"range6: \", range6, \" => \", collect(range6))\n",
    "println(\"range7: \", range7, \" => \", collect(range7))\n",
    "\n",
    "println(repeat('+', 62))"
   ]
  },
  {
   "cell_type": "code",
   "execution_count": null,
   "id": "192f8f76-c668-4da0-b83c-fced23863ab7",
   "metadata": {},
   "outputs": [],
   "source": []
  }
 ],
 "metadata": {
  "kernelspec": {
   "display_name": "julia 1.10.4",
   "language": "julia",
   "name": "julia-1.10"
  },
  "language_info": {
   "file_extension": ".jl",
   "mimetype": "application/julia",
   "name": "julia",
   "version": "1.10.4"
  }
 },
 "nbformat": 4,
 "nbformat_minor": 5
}
