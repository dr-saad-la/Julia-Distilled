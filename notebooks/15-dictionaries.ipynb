{
 "cells": [
  {
   "cell_type": "code",
   "execution_count": 1,
   "id": "016bea36-6b11-41a1-b088-f82c6a6160c4",
   "metadata": {
    "tags": []
   },
   "outputs": [],
   "source": [
    "# ---------------------------------------------------------- \n",
    "#    Chap 01: Dict objects in Julia\n",
    "#    Author: Dr. Saad Laouadi\n",
    "# \n",
    "#.   Copyright to Dr Saad Laouadi\n",
    "#   Using the examples from the notebook directly into \n",
    "#.  lecture is not allowed.\n",
    "# -----------------------------------------------------------"
   ]
  },
  {
   "cell_type": "markdown",
   "id": "0fe80967-1541-41f9-a238-eaaaf06451ad",
   "metadata": {},
   "source": [
    "## Dictionary in Julia "
   ]
  },
  {
   "cell_type": "code",
   "execution_count": 2,
   "id": "25d7832c-4bd5-4059-9839-e07dbe4ab407",
   "metadata": {
    "tags": []
   },
   "outputs": [],
   "source": [
    "function print_banner(char::Char, num_chars::Int, message::String)\n",
    "    border = repeat(string(char), num_chars)\n",
    "    \n",
    "    total_padding = num_chars - length(message)\n",
    "    left_padding = total_padding ÷ 2\n",
    "    right_padding = total_padding - left_padding\n",
    "    \n",
    "    centered_message = repeat(\" \", \n",
    "        left_padding) * message * repeat(\" \", right_padding)\n",
    "    \n",
    "    println(border)\n",
    "    println(centered_message)\n",
    "    println(border)\n",
    "end;"
   ]
  },
  {
   "cell_type": "code",
   "execution_count": 3,
   "id": "ae8e71b5-5373-4712-b65e-5c999a6c519c",
   "metadata": {
    "tags": []
   },
   "outputs": [
    {
     "data": {
      "text/plain": [
       "Dict{String, UnitRange{Int64}} with 2 entries:\n",
       "  \"range2\" => 6:10\n",
       "  \"range1\" => 1:5"
      ]
     },
     "execution_count": 3,
     "metadata": {},
     "output_type": "execute_result"
    }
   ],
   "source": [
    "# Different ways to create dictionaries\n",
    "dict1 = Dict(\"a\" => 1, \"b\" => 2, \"c\" => 3)             # Creating a dictionary with specific key-value pairs\n",
    "dict2 = Dict{String, Int}()                            # Creating an empty dictionary with specific key and value types\n",
    "dict3 = Dict(1 => \"one\", 2 => \"two\", 3 => \"three\")     # Creating a dictionary with integer keys and string values\n",
    "dict4 = Dict(:name => \"Alice\", :age => 30)             # Creating a dictionary with symbol keys\n",
    "dict5 = Dict(\"range1\" => 1:5, \"range2\" => 6:10)        # Creating a dictionary with ranges as values"
   ]
  },
  {
   "cell_type": "code",
   "execution_count": 4,
   "id": "7ea82e35-f2f1-4890-9ed0-ad445bbe5e63",
   "metadata": {
    "tags": []
   },
   "outputs": [
    {
     "name": "stdout",
     "output_type": "stream",
     "text": [
      "++++++++++++++++++++++++++++++++++++++++++++++++++++++++++++\n",
      "                       Dicts in Julia                       \n",
      "++++++++++++++++++++++++++++++++++++++++++++++++++++++++++++\n",
      "dict1: Dict(\"c\" => 3, \"b\" => 2, \"a\" => 1)\n",
      "dict2: Dict{String, Int64}()\n",
      "dict3: Dict(2 => \"two\", 3 => \"three\", 1 => \"one\")\n",
      "dict4: Dict{Symbol, Any}(:age => 30, :name => \"Alice\")\n",
      "dict5: Dict{String, UnitRange{Int64}}(\"range2\" => 6:10, \"range1\" => 1:5)\n",
      "++++++++++++++++++++++++++++++++++++++++++++++++++++++++++++++\n",
      "             Basic Operations with Dictionaries:              \n",
      "++++++++++++++++++++++++++++++++++++++++++++++++++++++++++++++\n",
      "  Element with key 'a' in dict1: 1\n",
      "  Element with key :name in dict4: Alice\n",
      "  dict1 after adding element 'd': Dict(\"c\" => 3, \"b\" => 2, \"a\" => 1, \"d\" => 4)\n",
      "  dict1 after modifying element 'b': Dict(\"c\" => 3, \"b\" => 20, \"a\" => 1, \"d\" => 4)\n",
      "  dict1 after removing element 'c': Dict(\"b\" => 20, \"a\" => 1, \"d\" => 4)\n",
      "  Does key 'a' exist in dict1?: true\n",
      "  Does key 'c' exist in dict1?: false\n",
      "  Iterating over dict3: \n",
      "    2 => two\n",
      "    3 => three\n",
      "    1 => one\n",
      "  Keys of dict1: [\"b\", \"a\", \"d\"]\n",
      "  Values of dict1: [20, 1, 4]\n",
      "\n",
      "Dictionaries with Comprehension:\n",
      "dict_comprehension: Dict(\"c\" => 3, \"b\" => 2, \"a\" => 1, \"d\" => 4)\n",
      "++++++++++++++++++++++++++++++++++++++++++++++++++++++++++++\n"
     ]
    }
   ],
   "source": [
    "print_banner('+', 60, \"Dicts in Julia\")\n",
    "\n",
    "# Displaying dictionaries\n",
    "println(\"dict1: \", dict1)\n",
    "println(\"dict2: \", dict2)\n",
    "println(\"dict3: \", dict3)\n",
    "println(\"dict4: \", dict4)\n",
    "println(\"dict5: \", dict5)\n",
    "\n",
    "# Basic operations with dictionaries\n",
    "print_banner('+', 62, \"Basic Operations with Dictionaries:\")\n",
    "\n",
    "# Accessing elements by key\n",
    "println(\"  Element with key 'a' in dict1: \", dict1[\"a\"])\n",
    "println(\"  Element with key :name in dict4: \", dict4[:name])\n",
    "\n",
    "# Adding elements\n",
    "dict1[\"d\"] = 4\n",
    "println(\"  dict1 after adding element 'd': \", dict1)\n",
    "\n",
    "# Modifying elements\n",
    "dict1[\"b\"] = 20\n",
    "println(\"  dict1 after modifying element 'b': \", dict1)\n",
    "\n",
    "# Removing elements\n",
    "delete!(dict1, \"c\")\n",
    "println(\"  dict1 after removing element 'c': \", dict1)\n",
    "\n",
    "# Checking if a key exists\n",
    "println(\"  Does key 'a' exist in dict1?: \", haskey(dict1, \"a\"))\n",
    "println(\"  Does key 'c' exist in dict1?: \", haskey(dict1, \"c\"))\n",
    "\n",
    "# Iterating over keys and values\n",
    "println(\"  Iterating over dict3: \")\n",
    "for (key, value) in dict3\n",
    "    println(\"    \", key, \" => \", value)\n",
    "end\n",
    "\n",
    "# Getting keys and values as separate arrays\n",
    "keys_array = collect(keys(dict1))\n",
    "values_array = collect(values(dict1))\n",
    "println(\"  Keys of dict1: \", keys_array)\n",
    "println(\"  Values of dict1: \", values_array)\n",
    "\n",
    "# Creating dictionaries using comprehensions\n",
    "println(\"\\nDictionaries with Comprehension:\")\n",
    "dict_keys = [\"a\", \"b\", \"c\", \"d\"]\n",
    "dict_values = [1, 2, 3, 4]\n",
    "dict_comprehension = Dict(key => value for (key, value) in zip(dict_keys, dict_values))\n",
    "\n",
    "# Displaying dictionaries created using comprehensions\n",
    "println(\"dict_comprehension: \", dict_comprehension)\n",
    "\n",
    "println(repeat('+', 60))"
   ]
  },
  {
   "cell_type": "code",
   "execution_count": null,
   "id": "6c1eacdb-895a-45cb-97f1-296f3f92b3d3",
   "metadata": {},
   "outputs": [],
   "source": []
  }
 ],
 "metadata": {
  "kernelspec": {
   "display_name": "julia 1.10.4",
   "language": "julia",
   "name": "julia-1.10"
  },
  "language_info": {
   "file_extension": ".jl",
   "mimetype": "application/julia",
   "name": "julia",
   "version": "1.10.4"
  }
 },
 "nbformat": 4,
 "nbformat_minor": 5
}
