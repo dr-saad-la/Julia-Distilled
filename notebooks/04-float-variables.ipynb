{
 "cells": [
  {
   "cell_type": "code",
   "execution_count": 1,
   "id": "83e2cc65-6182-49c9-be27-1cffa24e6dc7",
   "metadata": {
    "tags": []
   },
   "outputs": [],
   "source": [
    "# ---------------------------------------------------------- \n",
    "#    Chap 01: Float numbers in Julia\n",
    "#    Author: Dr. Saad Laouadi\n",
    "# \n",
    "#.   Copyright to Dr Saad Laouadi\n",
    "#   Using the examples from the notebook directly into \n",
    "#.  lecture is not allowed.\n",
    "# -----------------------------------------------------------"
   ]
  },
  {
   "cell_type": "markdown",
   "id": "0fe80967-1541-41f9-a238-eaaaf06451ad",
   "metadata": {},
   "source": [
    "## Float Variables in Julia "
   ]
  },
  {
   "cell_type": "code",
   "execution_count": 2,
   "id": "25d7832c-4bd5-4059-9839-e07dbe4ab407",
   "metadata": {
    "tags": []
   },
   "outputs": [],
   "source": [
    "# Import the Base module to use the sizeof function\n",
    "using Base\n",
    "\n",
    "# Import the Printf module to use the @sprintf macro\n",
    "using Printf\n",
    "\n",
    "# A function to print a nice banner on the stdouot\n",
    "function print_banner(char::Char, num_chars::Int, message::String)\n",
    "    border = repeat(string(char), num_chars)\n",
    "    \n",
    "    total_padding = num_chars - length(message)\n",
    "    left_padding = total_padding ÷ 2\n",
    "    right_padding = total_padding - left_padding\n",
    "    \n",
    "    centered_message = repeat(\" \", \n",
    "        left_padding) * message * repeat(\" \", right_padding)\n",
    "    \n",
    "    println(border)\n",
    "    println(centered_message)\n",
    "    println(border)\n",
    "end;\n",
    "\n",
    "# Function to display the type and size of a variable\n",
    "function display_variable_info(var_name::String, var_value)\n",
    "    println(\"$var_name:\")\n",
    "    println(\"  Value       : $var_value\")\n",
    "    println(\"  Type        : $(typeof(var_value))\")\n",
    "    println(\"  Memory Size : $(sizeof(var_value)) bytes\")\n",
    "    println()\n",
    "end;"
   ]
  },
  {
   "cell_type": "code",
   "execution_count": 3,
   "id": "ae8e71b5-5373-4712-b65e-5c999a6c519c",
   "metadata": {
    "tags": []
   },
   "outputs": [],
   "source": [
    "# Define floating-point variables of different types\n",
    "float16_var::Float16 = Float16(3.14159)                             # 16-bit floating-point\n",
    "float32_var::Float32 = 3.141592653589793f0                          # 32-bit floating-point\n",
    "float64_var::Float64 = 3.1415926535897932384626433832795028841971;  # 64-bit floating-point (default)\n",
    "\n",
    "# Define floating-point variables using scientific notation\n",
    "sci_float32_var::Float32 = 1.23e4             # 32-bit floating-point in scientific notation\n",
    "sci_float64_var::Float64 = 1.23e-4;            # 64-bit floating-point in scientific notation"
   ]
  },
  {
   "cell_type": "code",
   "execution_count": 4,
   "id": "7ea82e35-f2f1-4890-9ed0-ad445bbe5e63",
   "metadata": {
    "tags": []
   },
   "outputs": [
    {
     "name": "stdout",
     "output_type": "stream",
     "text": [
      "++++++++++++++++++++++++++++++++++++++++++++++++++++++++++++\n",
      "          Display information for each Intvariable          \n",
      "++++++++++++++++++++++++++++++++++++++++++++++++++++++++++++\n",
      "float16_var:\n",
      "  Value       : 3.14\n",
      "  Type        : Float16\n",
      "  Memory Size : 2 bytes\n",
      "\n",
      "float32_var:\n",
      "  Value       : 3.1415927\n",
      "  Type        : Float32\n",
      "  Memory Size : 4 bytes\n",
      "\n",
      "float64_var:\n",
      "  Value       : 3.141592653589793\n",
      "  Type        : Float64\n",
      "  Memory Size : 8 bytes\n",
      "\n",
      "sci_float32_var:\n",
      "  Value       : 12300.0\n",
      "  Type        : Float32\n",
      "  Memory Size : 4 bytes\n",
      "\n",
      "sci_float64_var:\n",
      "  Value       : 0.000123\n",
      "  Type        : Float64\n",
      "  Memory Size : 8 bytes\n",
      "\n",
      "++++++++++++++++++++++++++++++++++++++++++++++++++++++++++++\n",
      "            Formatting with Scientific notation             \n",
      "++++++++++++++++++++++++++++++++++++++++++++++++++++++++++++\n",
      "Formatted float64_var to 5 decimal places: 3.14159\n",
      "Formatted sci_float64_var to scientific notation with 2 decimal places: 1.23e-04\n",
      "++++++++++++++++++++++++++++++++++++++++++++++++++++++++++++\n"
     ]
    }
   ],
   "source": [
    "print_banner('+', 60, \"Display information for each Intvariable\")\n",
    "\n",
    "display_variable_info(\"float16_var\", float16_var)\n",
    "display_variable_info(\"float32_var\", float32_var)\n",
    "display_variable_info(\"float64_var\", float64_var)\n",
    "display_variable_info(\"sci_float32_var\", sci_float32_var)\n",
    "display_variable_info(\"sci_float64_var\", sci_float64_var)\n",
    "\n",
    "# Formatting floating-point numbers\n",
    "formatted_float64 = @sprintf(\"%.5f\", float64_var)         # Format to 5 decimal places\n",
    "formatted_sci_float64 = @sprintf(\"%.2e\", sci_float64_var)  # Format to scientific notation with 2 decimal places\n",
    "\n",
    "print_banner('+', 60, \"Formatting with Scientific notation\")\n",
    "println(\"Formatted float64_var to 5 decimal places: $formatted_float64\")\n",
    "println(\"Formatted sci_float64_var to scientific notation with 2 decimal places: $formatted_sci_float64\")\n",
    "\n",
    "println(repeat('+', 60))"
   ]
  },
  {
   "cell_type": "markdown",
   "id": "93239402-b064-45e0-a19c-347827d7ef1c",
   "metadata": {},
   "source": [
    "## Example of Well-known Scientific Number "
   ]
  },
  {
   "cell_type": "code",
   "execution_count": 5,
   "id": "cc8d1d7f-9363-4090-8736-f929b9b01bb0",
   "metadata": {},
   "outputs": [
    {
     "name": "stdout",
     "output_type": "stream",
     "text": [
      "++++++++++++++++++++++++++++++++++++++++++++++++++++++++++++\n",
      "                  Famous Scientific Number                  \n",
      "++++++++++++++++++++++++++++++++++++++++++++++++++++++++++++\n",
      "pi:\n",
      "  Value       : 3.141592653589793\n",
      "  Type        : Float64\n",
      "  Memory Size : 8 bytes\n",
      "\n",
      "e:\n",
      "  Value       : 2.718281828459045\n",
      "  Type        : Float64\n",
      "  Memory Size : 8 bytes\n",
      "\n",
      "golden_ratio:\n",
      "  Value       : 1.618033988749895\n",
      "  Type        : Float64\n",
      "  Memory Size : 8 bytes\n",
      "\n",
      "planck_constant:\n",
      "  Value       : 6.62607015e-34\n",
      "  Type        : Float64\n",
      "  Memory Size : 8 bytes\n",
      "\n",
      "light_speed:\n",
      "  Value       : 2.99792458e8\n",
      "  Type        : Float64\n",
      "  Memory Size : 8 bytes\n",
      "\n",
      "++++++++++++++++++++++++++++++++++++++++++++++++++++++++++++++\n"
     ]
    }
   ],
   "source": [
    "# Define well-known scientific numbers as floating-point variables\n",
    "pi::Float64 = 3.1415926535897932384626433832795028841971    # Pi\n",
    "e::Float64 = 2.7182818284590452353602874713526624977572470  # Euler's number\n",
    "golden_ratio::Float64 = 1.6180339887498948482045868343656381177203092  # Golden Ratio\n",
    "planck_constant::Float64 = 6.62607015e-34   # Planck's constant (in Joule-seconds)\n",
    "light_speed::Float64 = 2.99792458e8         # Speed of light (in meters/second)\n",
    "\n",
    "print_banner('+', 60, \"Famous Scientific Number\");\n",
    "\n",
    "display_variable_info(\"pi\", pi)\n",
    "display_variable_info(\"e\", e)\n",
    "display_variable_info(\"golden_ratio\", golden_ratio)\n",
    "display_variable_info(\"planck_constant\", planck_constant)\n",
    "display_variable_info(\"light_speed\", light_speed)\n",
    "\n",
    "println(repeat('+', 62));"
   ]
  }
 ],
 "metadata": {
  "kernelspec": {
   "display_name": "julia 1.10.4",
   "language": "julia",
   "name": "julia-1.10"
  },
  "language_info": {
   "file_extension": ".jl",
   "mimetype": "application/julia",
   "name": "julia",
   "version": "1.10.4"
  }
 },
 "nbformat": 4,
 "nbformat_minor": 5
}
