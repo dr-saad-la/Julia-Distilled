{
 "cells": [
  {
   "cell_type": "code",
   "execution_count": 1,
   "id": "016bea36-6b11-41a1-b088-f82c6a6160c4",
   "metadata": {
    "tags": []
   },
   "outputs": [],
   "source": [
    "# ---------------------------------------------------------- \n",
    "#    Chap 01: Generating Random Data in Julia\n",
    "#    Author: Dr. Saad Laouadi\n",
    "# \n",
    "#.   Copyright to Dr Saad Laouadi\n",
    "#   Using the examples from the notebook directly into \n",
    "#.  lecture is not allowed.\n",
    "# -----------------------------------------------------------"
   ]
  },
  {
   "cell_type": "code",
   "execution_count": 2,
   "id": "5ec8330e-61fd-4cdb-b346-92984a1c74fe",
   "metadata": {
    "tags": []
   },
   "outputs": [],
   "source": [
    "function print_banner(char::Char, num_chars::Int, message::String)\n",
    "    border = repeat(string(char), num_chars)\n",
    "    \n",
    "    total_padding = num_chars - length(message)\n",
    "    left_padding = total_padding ÷ 2\n",
    "    right_padding = total_padding - left_padding\n",
    "    \n",
    "    centered_message = repeat(\" \", \n",
    "        left_padding) * message * repeat(\" \", right_padding)\n",
    "    \n",
    "    println(border)\n",
    "    println(centered_message)\n",
    "    println(border)\n",
    "end;"
   ]
  },
  {
   "cell_type": "markdown",
   "id": "0fe80967-1541-41f9-a238-eaaaf06451ad",
   "metadata": {},
   "source": [
    "# Installing `Faker.jl` and `Impostor.jl` in Julia\n",
    "\n",
    "This guide provides step-by-step instructions on how to install `Faker.jl` and `Impostor.jl` in Julia. You can install these packages both from the terminal and within a Jupyter notebook.\n",
    "\n",
    "## Installing `Faker.jl`\n",
    "\n",
    "### From the Terminal\n",
    "\n",
    "1. Open your terminal.\n",
    "2. Start the Julia REPL by typing `julia` and pressing `Enter`.\n",
    "3. Enter the package manager by typing `]`. This will change the prompt to `pkg>`.\n",
    "4. Add the `Faker` package by typing:\n",
    "   ```julia\n",
    "   add Faker\n",
    "   ```\n",
    "   - Once the installation is complete, exit the package manager by pressing Backspace.\n",
    "5. Or using this method \n",
    "    ```bash\n",
    "    import Pkg\n",
    "    Pkg.add(\"Faker\")\n",
    "    ```\n",
    "    \n",
    "### From a Jupyter Notebook\n",
    "\n",
    "1. Open a new or existing Jupyter notebook.\n",
    "2. In a code cell, use the Pkg module to install Faker by running the following commands:\n",
    "```julia\n",
    "using Pkg\n",
    "Pkg.add(\"Faker\")\n",
    "```\n",
    "\n",
    "## Installing Impostor.jl\n",
    "### From the Terminal\n",
    "\n",
    "1. Open your terminal.\n",
    "2. Start the Julia REPL by typing julia and pressing Enter.\n",
    "3. Enter the package manager by typing ]. This will change the prompt to pkg>.\n",
    "4. Add the Impostor package by typing:\n",
    "```julia\n",
    "add Impostor\n",
    "```\n",
    "- Once the installation is complete, exit the package manager by pressing Backspace.\n",
    "\n",
    "### From a Jupyter Notebook\n",
    "\n",
    "- Open a new or existing Jupyter notebook.\n",
    "- In a code cell, use the Pkg module to install Impostor by running the following commands:\n",
    "\n",
    "```julia\n",
    "using Pkg\n",
    "Pkg.add(\"Impostor\")\n",
    "```\n",
    "\n",
    "## Verifying the Installation\n",
    "\n",
    "- To verify that the packages are installed correctly, you can run the following commands in the Julia REPL or in a Jupyter notebook:\n",
    "\n",
    "```julia\n",
    "using Faker\n",
    "using Impostor\n",
    "\n",
    "println(\"Faker.jl and Impostor.jl installed successfully!\")\n",
    "```\n",
    "\n",
    "If no errors are returned, the packages have been installed correctly and are ready to use."
   ]
  },
  {
   "cell_type": "code",
   "execution_count": 3,
   "id": "b9df02dc-859b-4951-902d-4f0b9abb114d",
   "metadata": {
    "tags": []
   },
   "outputs": [
    {
     "name": "stdout",
     "output_type": "stream",
     "text": [
      "Faker.jl and Impostor.jl installed successfully!\n"
     ]
    }
   ],
   "source": [
    "# Test we have Faker and Impostor modules available in this environment\n",
    "using Faker\n",
    "using Impostor\n",
    "\n",
    "println(\"Faker.jl and Impostor.jl installed successfully!\")"
   ]
  },
  {
   "cell_type": "code",
   "execution_count": 4,
   "id": "6c1eacdb-895a-45cb-97f1-296f3f92b3d3",
   "metadata": {},
   "outputs": [
    {
     "name": "stdout",
     "output_type": "stream",
     "text": [
      "++++++++++++++++++++++++++++++++++++++++++++++++++++++++++++++\n",
      "              Generating random data with Faker               \n",
      "++++++++++++++++++++++++++++++++++++++++++++++++++++++++++++++\n",
      "Name: Del\n",
      "Address: 158 Dietrich Isle North Nyla IN 05551\n",
      "Email: Powlowski.Grover@hotmail.com\n",
      "Phone Number: 1-774-063-5492 x590\n",
      "Company: Bayer and Sons\n",
      "Credit Card Number: 4207507132675\n",
      "Job Title: Financial trader\n",
      "Sentence: Autem rerum minima cumque expedita et.\n",
      "Date: 1998-7-16\n",
      "++++++++++++++++++++++++++++++++++++++++++++++++++++++++++++++\n"
     ]
    }
   ],
   "source": [
    "print_banner('+', 62, \"Generating random data with Faker\")\n",
    "\n",
    "# Generating random names\n",
    "name = Faker.male_first_name()\n",
    "println(\"Name: \", name)\n",
    "\n",
    "# Generating random addresses\n",
    "address = Faker.address()\n",
    "println(\"Address: \", address)\n",
    "\n",
    "# Generating random email addresses\n",
    "email = Faker.email()\n",
    "println(\"Email: \", email)\n",
    "\n",
    "# Generating random phone numbers\n",
    "phone_number = Faker.phone_number()\n",
    "println(\"Phone Number: \", phone_number)\n",
    "\n",
    "# Generating random company names\n",
    "company = Faker.company()\n",
    "println(\"Company: \", company)\n",
    "\n",
    "# Generating random credit card numbers\n",
    "credit_card = Faker.credit_card_number()\n",
    "println(\"Credit Card Number: \", credit_card)\n",
    "\n",
    "# Generating random job titles\n",
    "job = Faker.job()\n",
    "println(\"Job Title: \", job)\n",
    "\n",
    "# Generating random sentences\n",
    "sentence = Faker.sentence()\n",
    "println(\"Sentence: \", sentence)\n",
    "\n",
    "# Generating random dates\n",
    "date = Faker.date()\n",
    "println(\"Date: \", date)\n",
    "\n",
    "println(repeat('+', 62))"
   ]
  },
  {
   "cell_type": "code",
   "execution_count": 5,
   "id": "e98c4476-dff8-4798-b8ff-3125a63fc0f8",
   "metadata": {
    "tags": []
   },
   "outputs": [
    {
     "name": "stdout",
     "output_type": "stream",
     "text": [
      "++++++++++++++++++++++++++++++++++++++++++++++++++++++++++++++\n",
      "                   Generating random arrays                   \n",
      "++++++++++++++++++++++++++++++++++++++++++++++++++++++++++++++\n",
      "Random Integers: [-97, 32, 15, -50, 37]\n",
      "Random Floats: [61.382738383022264, 90.45657020106363, 14.498476359431168, 50.69031826996591, 37.470772215850005]\n",
      "Random Characters: ['N', 'C', 'a', 'G', 'f']\n",
      "Random Strings: [\"8\", \"8\", \"8\", \"8\", \"8\"]\n",
      "++++++++++++++++++++++++++++++++++++++++++++++++++++++++++++++\n",
      "                   Generating random Tuples                   \n",
      "++++++++++++++++++++++++++++++++++++++++++++++++++++++++++++++\n",
      "Random Tuple of Integers: (-38, -49, -49)\n",
      "Random Tuple of Mixed Types: (\"Mario\", 0.6658692489495993, 23)\n",
      "++++++++++++++++++++++++++++++++++++++++++++++++++++++++++++++\n",
      "                    Generating random Sets                    \n",
      "++++++++++++++++++++++++++++++++++++++++++++++++++++++++++++++\n",
      "Random Set of Integers: Set([-95, -38, 36, -77, -46])\n",
      "Random Set of Floats: Set([70.48004979669003, 33.01771449205657, 76.48752042439703, 11.489798340604374, 33.56578849770171])\n",
      "++++++++++++++++++++++++++++++++++++++++++++++++++++++++++++++\n",
      "                Generating random dictionaries                \n",
      "++++++++++++++++++++++++++++++++++++++++++++++++++++++++++++++\n",
      "Random Dictionary (Int -> String): Dict(15 => \"8\", 7 => \"8\", -7 => \"8\", -93 => \"8\", -46 => \"8\")\n",
      "Random Dictionary (String -> Int): Dict(\"8\" => 92)\n",
      "++++++++++++++++++++++++++++++++++++++++++++++++++++++++++++++\n"
     ]
    }
   ],
   "source": [
    "print_banner('+', 62, \"Generating random arrays\")\n",
    "\n",
    "# Array of random integers\n",
    "random_integers = [rand(-100:100) for _ in 1:5]\n",
    "println(\"Random Integers: \", random_integers)\n",
    "\n",
    "# Array of random floats\n",
    "random_floats = [rand() * 100 for _ in 1:5]\n",
    "println(\"Random Floats: \", random_floats)\n",
    "\n",
    "# Array of random characters\n",
    "random_chars = [rand(['a':'z'; 'A':'Z']) for _ in 1:5]\n",
    "println(\"Random Characters: \", random_chars)\n",
    "\n",
    "# Array of random strings\n",
    "random_strings = [Faker.string(8) for _ in 1:5]\n",
    "println(\"Random Strings: \", random_strings)\n",
    "\n",
    "print_banner('+', 62, \"Generating random Tuples\")\n",
    "\n",
    "# Tuple of random integers\n",
    "random_tuple_integers = (rand(-100:100), rand(-100:100), rand(-100:100))\n",
    "println(\"Random Tuple of Integers: \", random_tuple_integers)\n",
    "\n",
    "# Tuple of random mixed types\n",
    "random_tuple_mixed = (Faker.first_name(), rand(), rand(-100:100))\n",
    "println(\"Random Tuple of Mixed Types: \", random_tuple_mixed)\n",
    "\n",
    "print_banner('+', 62, \"Generating random Sets\")\n",
    "\n",
    "# Set of random integers\n",
    "random_set_integers = Set([rand(-100:100) for _ in 1:5])\n",
    "println(\"Random Set of Integers: \", random_set_integers)\n",
    "\n",
    "# Set of random floats\n",
    "random_set_floats = Set([rand() * 100 for _ in 1:5])\n",
    "println(\"Random Set of Floats: \", random_set_floats)\n",
    "\n",
    "print_banner('+', 62, \"Generating random dictionaries\")\n",
    "\n",
    "# Dictionary with random integer keys and string values\n",
    "random_dict_int_str = Dict(rand(-100:100) => Faker.string(8) for _ in 1:5)\n",
    "println(\"Random Dictionary (Int -> String): \", random_dict_int_str)\n",
    "\n",
    "# Dictionary with random string keys and integer values\n",
    "random_dict_str_int = Dict(Faker.string(8) => rand(-100:100) for _ in 1:5)\n",
    "println(\"Random Dictionary (String -> Int): \", random_dict_str_int)\n",
    "\n",
    "println(repeat('+', 62))"
   ]
  },
  {
   "cell_type": "code",
   "execution_count": 6,
   "id": "0aa8e23f-e6d7-4b66-8f5a-81d73b3a4004",
   "metadata": {
    "tags": []
   },
   "outputs": [
    {
     "name": "stdout",
     "output_type": "stream",
     "text": [
      "++++++++++++++++++++++++++++++++++++++++++++++++++++++++++++++++++++++++\n",
      "                 Generating random arrays with Impostor                 \n",
      "++++++++++++++++++++++++++++++++++++++++++++++++++++++++++++++++++++++++\n",
      "Random Integers: [40, -70, -27, -7, 62]\n",
      "Random Floats: [17.182110521275906, 63.69919232676197, 54.251806513821364, 86.40108637862181, 54.814023025303705]\n",
      "Random Characters: ['d', 'm', 's', 'e', 'd']\n",
      "Random Strings: [\"Item1\", \"Item2\", \"Item3\", \"Item4\", \"Item5\"]\n",
      "++++++++++++++++++++++++++++++++++++++++++++++++++++++++++++++++++++++++\n",
      "                 Generating random Tuples with Impostor                 \n",
      "++++++++++++++++++++++++++++++++++++++++++++++++++++++++++++++++++++++++\n",
      "Random Tuple of Integers: (12, -47, 14)\n",
      "Random Tuple of Mixed Types: (\"Dennis\", 0.30040282697804555, 60)\n",
      "++++++++++++++++++++++++++++++++++++++++++++++++++++++++++++++++++++++++\n",
      "                  Generating random Sets with Impostor                  \n",
      "++++++++++++++++++++++++++++++++++++++++++++++++++++++++++++++++++++++++\n",
      "Random Set of Integers: Set([70, -15, 33, 20, 31])\n",
      "Random Set of Floats: Set([27.225702629454652, 16.777702653575368, 7.838510865173265, 40.8994024999832, 17.670646762256336])\n",
      "++++++++++++++++++++++++++++++++++++++++++++++++++++++++++++++++++++++++\n",
      "              Generating random Dictionaries with Impostor              \n",
      "++++++++++++++++++++++++++++++++++++++++++++++++++++++++++++++++++++++++\n",
      "Random Dictionary (Int -> String): Dict(39 => \"Item2\", 93 => \"Item4\", 69 => \"Item5\", -36 => \"Item1\", 48 => \"Item3\")\n",
      "Random Dictionary (String -> Int): Dict(\"Item3\" => 85, \"Item1\" => -33, \"Item2\" => 64, \"Item4\" => 12, \"Item5\" => 29)\n",
      "++++++++++++++++++++++++++++++++++++++++++++++++++++++++++++++++++++++++\n"
     ]
    }
   ],
   "source": [
    "using Impostor\n",
    "using Random\n",
    "\n",
    "print_banner('+', 72, \"Generating random arrays with Impostor\")\n",
    "\n",
    "# Array of random integers\n",
    "random_integers = [rand(-100:100) for _ in 1:5]\n",
    "println(\"Random Integers: \", random_integers)\n",
    "\n",
    "# Array of random floats\n",
    "random_floats = [rand() * 100 for _ in 1:5]\n",
    "println(\"Random Floats: \", random_floats)\n",
    "\n",
    "# Array of random characters (note: Impostor does not directly support random characters, using Random module)\n",
    "random_chars = [rand('a':'z') for _ in 1:5]\n",
    "println(\"Random Characters: \", random_chars)\n",
    "\n",
    "# Array of random strings\n",
    "random_strings = [string(\"Item\", i) for i in 1:5]\n",
    "println(\"Random Strings: \", random_strings)\n",
    "\n",
    "print_banner('+', 72, \"Generating random Tuples with Impostor\")\n",
    "\n",
    "# Tuple of random integers\n",
    "random_tuple_integers = (rand(-100:100), rand(-100:100), rand(-100:100))\n",
    "println(\"Random Tuple of Integers: \", random_tuple_integers)\n",
    "\n",
    "# Tuple of random mixed types\n",
    "random_tuple_mixed = (firstname(), rand(), rand(-100:100))\n",
    "println(\"Random Tuple of Mixed Types: \", random_tuple_mixed)\n",
    "\n",
    "print_banner('+', 72, \"Generating random Sets with Impostor\")\n",
    "\n",
    "# Set of random integers\n",
    "random_set_integers = Set([rand(-100:100) for _ in 1:5])\n",
    "println(\"Random Set of Integers: \", random_set_integers)\n",
    "\n",
    "# Set of random floats\n",
    "random_set_floats = Set([rand() * 100 for _ in 1:5])\n",
    "println(\"Random Set of Floats: \", random_set_floats)\n",
    "\n",
    "print_banner('+', 72, \"Generating random Dictionaries with Impostor\")\n",
    "\n",
    "# Dictionary with random integer keys and string values\n",
    "random_dict_int_str = Dict(rand(-100:100) => string(\"Item\", i) for i in 1:5)\n",
    "println(\"Random Dictionary (Int -> String): \", random_dict_int_str)\n",
    "\n",
    "# Dictionary with random string keys and integer values\n",
    "random_dict_str_int = Dict(string(\"Item\", i) => rand(-100:100) for i in 1:5)\n",
    "println(\"Random Dictionary (String -> Int): \", random_dict_str_int)\n",
    "\n",
    "println(repeat('+', 72))"
   ]
  },
  {
   "cell_type": "markdown",
   "id": "7d6d5c80-56ba-4896-bf81-4e774e178ca8",
   "metadata": {},
   "source": [
    "## Generating Random DataFrame "
   ]
  },
  {
   "cell_type": "code",
   "execution_count": 7,
   "id": "2723530a-e366-4d0d-8b25-de1f04ff5246",
   "metadata": {
    "tags": []
   },
   "outputs": [
    {
     "name": "stdout",
     "output_type": "stream",
     "text": [
      "First Names: [\"Vernon\", \"Kristine\", \"Jared\", \"Caroline\", \"Katherine\", \"Stacie\", \"Anna\", \"Paula\", \"Timothy\", \"Drew\"]\n",
      "Last Names: [\"Castillo\", \"Marshall\", \"Mcdowell\", \"Lara\", \"Gross\", \"Petty\", \"Austin\", \"Kemp\", \"Nunez\", \"Montgomery\"]\n",
      "Cities: [\"Huntsville\", \"Cheyenne\", \"Hartford\", \"Atlanta\", \"Newark\", \"Charleston\", \"Manchester\", \"Bridgeport\", \"Sacramento\", \"Helena\"]\n",
      "Phone Numbers: [\"1-774-063-5492 x590\", \"1-774-063-5492 x590\", \"1-774-063-5492 x590\", \"1-774-063-5492 x590\", \"1-774-063-5492 x590\", \"1-774-063-5492 x590\", \"1-774-063-5492 x590\", \"1-774-063-5492 x590\", \"1-774-063-5492 x590\", \"1-774-063-5492 x590\"]\n",
      "Companies: [\"Ankunding and Sons\", \"Johnson-Ullrich\", \"Cormier Inc\", \"Lueilwitz, Boyer and Schmitt\", \"Leannon-Pfeffer\", \"Hudson Inc\", \"Zieme and Sons\", \"Dare-Hilll\", \"Rau Group\", \"Heller Group\"]\n",
      "Job Titles: [\"Planning and development surveyor\", \"Purchasing manager\", \"International aid/development worker\", \"Higher education lecturer\", \"Scientist, audiological\", \"Psychologist, sport and exercise\", \"Health physicist\", \"Ceramics designer\", \"Speech and language therapist\", \"Landscape architect\"]\n",
      "Dates of Birth: [\"2067-10-16\", \"2030-3-3\", \"1975-1-31\", \"2040-2-7\", \"1989-2-22\", \"2064-12-29\", \"1971-3-27\", \"1970-10-1\", \"2002-12-7\", \"2010-10-29\"]\n",
      "Addresses: [\"68789 Blick Camp North Verna WA 36236-9052\", \"459 Berge Corners South Monica OK 37587\", \"730 Thompson Village Armstrongton OR 71182-6978\", \"7644 Cole Way North Devona ME 99103-8536\", \"6908 McClure Drive New Stantonmouth GA 48822\", \"9123 Emard Garden Beckyport TN 75926-9412\", \"62886 Hodkiewicz Court New Truman LA 78110-3410\", \"61362 Farrell Stream New Gwenn WV 60385\", \"5513 Angelica Prairie North Staceyborough MS 83109\", \"0092 Weissnat Tunnel Jamesmouth TN 02927\"]\n"
     ]
    }
   ],
   "source": [
    "using Impostor\n",
    "using DataFrames\n",
    "\n",
    "# Generating random first names\n",
    "first_names = firstname(10)\n",
    "println(\"First Names: \", first_names)\n",
    "\n",
    "# Generating random last names\n",
    "last_names = surname(10)\n",
    "println(\"Last Names: \", last_names)\n",
    "\n",
    "# Generating random cities\n",
    "cities = city(10)\n",
    "println(\"Cities: \", cities)\n",
    "\n",
    "# Generating random phone numbers \n",
    "phone_numbers = [phone_number for _ in 1:10]\n",
    "println(\"Phone Numbers: \", phone_numbers)\n",
    "\n",
    "# Generating random company names\n",
    "companies = [Faker.company() for _ in 1:10]\n",
    "println(\"Companies: \", companies)\n",
    "\n",
    "# Generating random job titles\n",
    "job_titles = [Faker.job() for _ in 1:10 ]\n",
    "println(\"Job Titles: \", job_titles)\n",
    "\n",
    "# Generating random dates of birth\n",
    "dob = [Faker.date() for _ in 1:10]\n",
    "println(\"Dates of Birth: \", dob)\n",
    "\n",
    "# Generating random addresses\n",
    "addresses = [Faker.address() for _ in 1:10]\n",
    "println(\"Addresses: \", addresses)\n",
    "\n",
    "# Creating a DataFrame with random data\n",
    "df = DataFrame(\n",
    "    first_name = first_names,\n",
    "    last_name = last_names,\n",
    "    city = cities,\n",
    "    phone_number = phone_numbers,\n",
    "    company = companies,\n",
    "    job_title = job_titles,\n",
    "    date_of_birth = dob,\n",
    "    address = addresses\n",
    ");"
   ]
  },
  {
   "cell_type": "code",
   "execution_count": 8,
   "id": "7f033240-e3e0-4913-8600-e1d493d020f4",
   "metadata": {
    "tags": []
   },
   "outputs": [
    {
     "name": "stdout",
     "output_type": "stream",
     "text": [
      "++++++++++++++++++++++++++++++++++++++++++++++++++++++++++++++\n",
      "                 DataFrame with random data:                  \n",
      "++++++++++++++++++++++++++++++++++++++++++++++++++++++++++++++\n"
     ]
    },
    {
     "data": {
      "text/html": [
       "<div><div style = \"float: left;\"><span>10×8 DataFrame</span></div><div style = \"clear: both;\"></div></div><div class = \"data-frame\" style = \"overflow-x: scroll;\"><table class = \"data-frame\" style = \"margin-bottom: 6px;\"><thead><tr class = \"header\"><th class = \"rowNumber\" style = \"font-weight: bold; text-align: right;\">Row</th><th style = \"text-align: left;\">first_name</th><th style = \"text-align: left;\">last_name</th><th style = \"text-align: left;\">city</th><th style = \"text-align: left;\">phone_number</th><th style = \"text-align: left;\">company</th><th style = \"text-align: left;\">job_title</th><th style = \"text-align: left;\">date_of_birth</th><th style = \"text-align: left;\">address</th></tr><tr class = \"subheader headerLastRow\"><th class = \"rowNumber\" style = \"font-weight: bold; text-align: right;\"></th><th title = \"String\" style = \"text-align: left;\">String</th><th title = \"String\" style = \"text-align: left;\">String</th><th title = \"String\" style = \"text-align: left;\">String</th><th title = \"String\" style = \"text-align: left;\">String</th><th title = \"String\" style = \"text-align: left;\">String</th><th title = \"String\" style = \"text-align: left;\">String</th><th title = \"String\" style = \"text-align: left;\">String</th><th title = \"String\" style = \"text-align: left;\">String</th></tr></thead><tbody><tr><td class = \"rowNumber\" style = \"font-weight: bold; text-align: right;\">1</td><td style = \"text-align: left;\">Vernon</td><td style = \"text-align: left;\">Castillo</td><td style = \"text-align: left;\">Huntsville</td><td style = \"text-align: left;\">1-774-063-5492 x590</td><td style = \"text-align: left;\">Ankunding and Sons</td><td style = \"text-align: left;\">Planning and development surveyor</td><td style = \"text-align: left;\">2067-10-16</td><td style = \"text-align: left;\">68789 Blick Camp North Verna WA 36236-9052</td></tr><tr><td class = \"rowNumber\" style = \"font-weight: bold; text-align: right;\">2</td><td style = \"text-align: left;\">Kristine</td><td style = \"text-align: left;\">Marshall</td><td style = \"text-align: left;\">Cheyenne</td><td style = \"text-align: left;\">1-774-063-5492 x590</td><td style = \"text-align: left;\">Johnson-Ullrich</td><td style = \"text-align: left;\">Purchasing manager</td><td style = \"text-align: left;\">2030-3-3</td><td style = \"text-align: left;\">459 Berge Corners South Monica OK 37587</td></tr><tr><td class = \"rowNumber\" style = \"font-weight: bold; text-align: right;\">3</td><td style = \"text-align: left;\">Jared</td><td style = \"text-align: left;\">Mcdowell</td><td style = \"text-align: left;\">Hartford</td><td style = \"text-align: left;\">1-774-063-5492 x590</td><td style = \"text-align: left;\">Cormier Inc</td><td style = \"text-align: left;\">International aid/development worker</td><td style = \"text-align: left;\">1975-1-31</td><td style = \"text-align: left;\">730 Thompson Village Armstrongton OR 71182-6978</td></tr><tr><td class = \"rowNumber\" style = \"font-weight: bold; text-align: right;\">4</td><td style = \"text-align: left;\">Caroline</td><td style = \"text-align: left;\">Lara</td><td style = \"text-align: left;\">Atlanta</td><td style = \"text-align: left;\">1-774-063-5492 x590</td><td style = \"text-align: left;\">Lueilwitz, Boyer and Schmitt</td><td style = \"text-align: left;\">Higher education lecturer</td><td style = \"text-align: left;\">2040-2-7</td><td style = \"text-align: left;\">7644 Cole Way North Devona ME 99103-8536</td></tr><tr><td class = \"rowNumber\" style = \"font-weight: bold; text-align: right;\">5</td><td style = \"text-align: left;\">Katherine</td><td style = \"text-align: left;\">Gross</td><td style = \"text-align: left;\">Newark</td><td style = \"text-align: left;\">1-774-063-5492 x590</td><td style = \"text-align: left;\">Leannon-Pfeffer</td><td style = \"text-align: left;\">Scientist, audiological</td><td style = \"text-align: left;\">1989-2-22</td><td style = \"text-align: left;\">6908 McClure Drive New Stantonmouth GA 48822</td></tr><tr><td class = \"rowNumber\" style = \"font-weight: bold; text-align: right;\">6</td><td style = \"text-align: left;\">Stacie</td><td style = \"text-align: left;\">Petty</td><td style = \"text-align: left;\">Charleston</td><td style = \"text-align: left;\">1-774-063-5492 x590</td><td style = \"text-align: left;\">Hudson Inc</td><td style = \"text-align: left;\">Psychologist, sport and exercise</td><td style = \"text-align: left;\">2064-12-29</td><td style = \"text-align: left;\">9123 Emard Garden Beckyport TN 75926-9412</td></tr><tr><td class = \"rowNumber\" style = \"font-weight: bold; text-align: right;\">7</td><td style = \"text-align: left;\">Anna</td><td style = \"text-align: left;\">Austin</td><td style = \"text-align: left;\">Manchester</td><td style = \"text-align: left;\">1-774-063-5492 x590</td><td style = \"text-align: left;\">Zieme and Sons</td><td style = \"text-align: left;\">Health physicist</td><td style = \"text-align: left;\">1971-3-27</td><td style = \"text-align: left;\">62886 Hodkiewicz Court New Truman LA 78110-3410</td></tr><tr><td class = \"rowNumber\" style = \"font-weight: bold; text-align: right;\">8</td><td style = \"text-align: left;\">Paula</td><td style = \"text-align: left;\">Kemp</td><td style = \"text-align: left;\">Bridgeport</td><td style = \"text-align: left;\">1-774-063-5492 x590</td><td style = \"text-align: left;\">Dare-Hilll</td><td style = \"text-align: left;\">Ceramics designer</td><td style = \"text-align: left;\">1970-10-1</td><td style = \"text-align: left;\">61362 Farrell Stream New Gwenn WV 60385</td></tr><tr><td class = \"rowNumber\" style = \"font-weight: bold; text-align: right;\">9</td><td style = \"text-align: left;\">Timothy</td><td style = \"text-align: left;\">Nunez</td><td style = \"text-align: left;\">Sacramento</td><td style = \"text-align: left;\">1-774-063-5492 x590</td><td style = \"text-align: left;\">Rau Group</td><td style = \"text-align: left;\">Speech and language therapist</td><td style = \"text-align: left;\">2002-12-7</td><td style = \"text-align: left;\">5513 Angelica Prairie North Staceyborough MS 83109</td></tr><tr><td class = \"rowNumber\" style = \"font-weight: bold; text-align: right;\">10</td><td style = \"text-align: left;\">Drew</td><td style = \"text-align: left;\">Montgomery</td><td style = \"text-align: left;\">Helena</td><td style = \"text-align: left;\">1-774-063-5492 x590</td><td style = \"text-align: left;\">Heller Group</td><td style = \"text-align: left;\">Landscape architect</td><td style = \"text-align: left;\">2010-10-29</td><td style = \"text-align: left;\">0092 Weissnat Tunnel Jamesmouth TN 02927</td></tr></tbody></table></div>"
      ],
      "text/latex": [
       "\\begin{tabular}{r|cccccc}\n",
       "\t& first\\_name & last\\_name & city & phone\\_number & company & \\\\\n",
       "\t\\hline\n",
       "\t& String & String & String & String & String & \\\\\n",
       "\t\\hline\n",
       "\t1 & Vernon & Castillo & Huntsville & 1-774-063-5492 x590 & Ankunding and Sons & $\\dots$ \\\\\n",
       "\t2 & Kristine & Marshall & Cheyenne & 1-774-063-5492 x590 & Johnson-Ullrich & $\\dots$ \\\\\n",
       "\t3 & Jared & Mcdowell & Hartford & 1-774-063-5492 x590 & Cormier Inc & $\\dots$ \\\\\n",
       "\t4 & Caroline & Lara & Atlanta & 1-774-063-5492 x590 & Lueilwitz, Boyer and Schmitt & $\\dots$ \\\\\n",
       "\t5 & Katherine & Gross & Newark & 1-774-063-5492 x590 & Leannon-Pfeffer & $\\dots$ \\\\\n",
       "\t6 & Stacie & Petty & Charleston & 1-774-063-5492 x590 & Hudson Inc & $\\dots$ \\\\\n",
       "\t7 & Anna & Austin & Manchester & 1-774-063-5492 x590 & Zieme and Sons & $\\dots$ \\\\\n",
       "\t8 & Paula & Kemp & Bridgeport & 1-774-063-5492 x590 & Dare-Hilll & $\\dots$ \\\\\n",
       "\t9 & Timothy & Nunez & Sacramento & 1-774-063-5492 x590 & Rau Group & $\\dots$ \\\\\n",
       "\t10 & Drew & Montgomery & Helena & 1-774-063-5492 x590 & Heller Group & $\\dots$ \\\\\n",
       "\\end{tabular}\n"
      ],
      "text/plain": [
       "\u001b[1m10×8 DataFrame\u001b[0m\n",
       "\u001b[1m Row \u001b[0m│\u001b[1m first_name \u001b[0m\u001b[1m last_name  \u001b[0m\u001b[1m city       \u001b[0m\u001b[1m phone_number        \u001b[0m\u001b[1m company       \u001b[0m ⋯\n",
       "     │\u001b[90m String     \u001b[0m\u001b[90m String     \u001b[0m\u001b[90m String     \u001b[0m\u001b[90m String              \u001b[0m\u001b[90m String        \u001b[0m ⋯\n",
       "─────┼──────────────────────────────────────────────────────────────────────────\n",
       "   1 │ Vernon      Castillo    Huntsville  1-774-063-5492 x590  Ankunding and  ⋯\n",
       "   2 │ Kristine    Marshall    Cheyenne    1-774-063-5492 x590  Johnson-Ullric\n",
       "   3 │ Jared       Mcdowell    Hartford    1-774-063-5492 x590  Cormier Inc\n",
       "   4 │ Caroline    Lara        Atlanta     1-774-063-5492 x590  Lueilwitz, Boy\n",
       "   5 │ Katherine   Gross       Newark      1-774-063-5492 x590  Leannon-Pfeffe ⋯\n",
       "   6 │ Stacie      Petty       Charleston  1-774-063-5492 x590  Hudson Inc\n",
       "   7 │ Anna        Austin      Manchester  1-774-063-5492 x590  Zieme and Sons\n",
       "   8 │ Paula       Kemp        Bridgeport  1-774-063-5492 x590  Dare-Hilll\n",
       "   9 │ Timothy     Nunez       Sacramento  1-774-063-5492 x590  Rau Group      ⋯\n",
       "  10 │ Drew        Montgomery  Helena      1-774-063-5492 x590  Heller Group\n",
       "\u001b[36m                                                               4 columns omitted\u001b[0m"
      ]
     },
     "execution_count": 8,
     "metadata": {},
     "output_type": "execute_result"
    }
   ],
   "source": [
    "print_banner('+', 62, \"DataFrame with random data:\")\n",
    "df"
   ]
  },
  {
   "cell_type": "code",
   "execution_count": null,
   "id": "0f965bae-a500-410c-b211-163d9e4bf29e",
   "metadata": {},
   "outputs": [],
   "source": []
  }
 ],
 "metadata": {
  "kernelspec": {
   "display_name": "julia 1.10.4",
   "language": "julia",
   "name": "julia-1.10"
  },
  "language_info": {
   "file_extension": ".jl",
   "mimetype": "application/julia",
   "name": "julia",
   "version": "1.10.4"
  }
 },
 "nbformat": 4,
 "nbformat_minor": 5
}
