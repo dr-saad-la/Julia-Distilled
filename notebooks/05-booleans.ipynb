{
 "cells": [
  {
   "cell_type": "code",
   "execution_count": 1,
   "id": "016bea36-6b11-41a1-b088-f82c6a6160c4",
   "metadata": {
    "tags": []
   },
   "outputs": [],
   "source": [
    "# ---------------------------------------------------------- \n",
    "#    Chap 01: Booleans in Julia\n",
    "#    Author: Dr. Saad Laouadi\n",
    "# \n",
    "#.   Copyright to Dr Saad Laouadi\n",
    "#   Using the examples from the notebook directly into \n",
    "#.  lecture is not allowed.\n",
    "# -----------------------------------------------------------"
   ]
  },
  {
   "cell_type": "markdown",
   "id": "0fe80967-1541-41f9-a238-eaaaf06451ad",
   "metadata": {},
   "source": [
    "## Boolean Variables in Julia "
   ]
  },
  {
   "cell_type": "code",
   "execution_count": 2,
   "id": "25d7832c-4bd5-4059-9839-e07dbe4ab407",
   "metadata": {
    "tags": []
   },
   "outputs": [],
   "source": [
    "# Code used for examples in this notebook\n",
    "using Base\n",
    "function print_banner(char::Char, num_chars::Int, message::String)\n",
    "    border = repeat(string(char), num_chars)\n",
    "    \n",
    "    total_padding = num_chars - length(message)\n",
    "    left_padding = total_padding ÷ 2\n",
    "    right_padding = total_padding - left_padding\n",
    "    \n",
    "    centered_message = repeat(\" \", \n",
    "        left_padding) * message * repeat(\" \", right_padding)\n",
    "    \n",
    "    println(border)\n",
    "    println(centered_message)\n",
    "    println(border)\n",
    "end;\n",
    "\n",
    "# Function to display the type and size of a variable\n",
    "function display_variable_info(var_name::String, var_value)\n",
    "    println(\"$var_name:\")\n",
    "    println(\"  Value       : $var_value\")\n",
    "    println(\"  Type        : $(typeof(var_value))\")\n",
    "    println(\"  Memory Size : $(sizeof(var_value)) bytes\")\n",
    "    println()\n",
    "end;"
   ]
  },
  {
   "cell_type": "code",
   "execution_count": 3,
   "id": "ae8e71b5-5373-4712-b65e-5c999a6c519c",
   "metadata": {
    "tags": []
   },
   "outputs": [],
   "source": [
    "# Define boolean variables\n",
    "bool_true::Bool = true    # Boolean true\n",
    "bool_false::Bool = false;  # Boolean false"
   ]
  },
  {
   "cell_type": "code",
   "execution_count": 4,
   "id": "7ea82e35-f2f1-4890-9ed0-ad445bbe5e63",
   "metadata": {
    "tags": []
   },
   "outputs": [
    {
     "name": "stdout",
     "output_type": "stream",
     "text": [
      "++++++++++++++++++++++++++++++++++++++++++++++++++++++++++++\n",
      "          Display information of Boolean Variables          \n",
      "++++++++++++++++++++++++++++++++++++++++++++++++++++++++++++\n",
      "bool_true:\n",
      "  Value       : true\n",
      "  Type        : Bool\n",
      "  Memory Size : 1 bytes\n",
      "\n",
      "bool_false:\n",
      "  Value       : false\n",
      "  Type        : Bool\n",
      "  Memory Size : 1 bytes\n",
      "\n",
      "++++++++++++++++++++++++++++++++++++++++++++++++++++++++++++\n",
      "                     Boolean Operators                      \n",
      "++++++++++++++++++++++++++++++++++++++++++++++++++++++++++++\n",
      "AND Operation (&&):\n",
      "  true && true   : true\n",
      "  true && false  : false\n",
      "  false && true  : false\n",
      "  false && false : false\n",
      "OR Operation (||):\n",
      "  true || true   : true\n",
      "  true || false  : true\n",
      "  false || true  : true\n",
      "  false || false : false\n",
      "NOT Operation (!):\n",
      "  !true  : false\n",
      "  !false : true\n",
      "++++++++++++++++++++++++++++++++++++++++++++++++++++++++++++\n",
      "                 Complex boolean operations                 \n",
      "++++++++++++++++++++++++++++++++++++++++++++++++++++++++++++\n",
      "  (A && B) && (A || C) where A=true, B=false, C=true : false\n",
      "  (A || B) && (B || C) where A=true, B=false, C=true : true\n",
      "  !(A && B) || (B && C) where A=true, B=false, C=true : true\n",
      "  (A && !B) || (C && !A) where A=true, B=false, C=true : true\n",
      "++++++++++++++++++++++++++++++++++++++++++++++++++++++++++++\n"
     ]
    }
   ],
   "source": [
    "print_banner('+', 60, \"Display information of Boolean Variables\")\n",
    "\n",
    "# Display information for each boolean variable\n",
    "display_variable_info(\"bool_true\", bool_true)\n",
    "display_variable_info(\"bool_false\", bool_false)\n",
    "\n",
    "# Boolean Operators\n",
    "print_banner('+', 60, \"Boolean Operators\")\n",
    "\n",
    "# AND operator\n",
    "println(\"AND Operation (&&):\")\n",
    "println(\"  true && true   : \", bool_true && bool_true)\n",
    "println(\"  true && false  : \", bool_true && bool_false)\n",
    "println(\"  false && true  : \", bool_false && bool_true)\n",
    "println(\"  false && false : \", bool_false && bool_false)\n",
    "\n",
    "# OR operator\n",
    "println(\"OR Operation (||):\")\n",
    "println(\"  true || true   : \", bool_true || bool_true)\n",
    "println(\"  true || false  : \", bool_true || bool_false)\n",
    "println(\"  false || true  : \", bool_false || bool_true)\n",
    "println(\"  false || false : \", bool_false || bool_false)\n",
    "\n",
    "# NOT operator\n",
    "println(\"NOT Operation (!):\")\n",
    "println(\"  !true  : \", !bool_true)\n",
    "println(\"  !false : \", !bool_false)\n",
    "\n",
    "# Complex boolean operations\n",
    "print_banner('+', 60, \"Complex boolean operations\");\n",
    "A = true\n",
    "B = false\n",
    "C = true\n",
    "\n",
    "complex_result1 = (A && B) && (A || C)\n",
    "println(\"  (A && B) && (A || C) where A=true, B=false, C=true : \", complex_result1)\n",
    "\n",
    "complex_result2 = (A || B) && (B || C)\n",
    "println(\"  (A || B) && (B || C) where A=true, B=false, C=true : \", complex_result2)\n",
    "\n",
    "complex_result3 = !(A && B) || (B && C)\n",
    "println(\"  !(A && B) || (B && C) where A=true, B=false, C=true : \", complex_result3)\n",
    "\n",
    "complex_result4 = (A && !B) || (C && !A)\n",
    "println(\"  (A && !B) || (C && !A) where A=true, B=false, C=true : \", complex_result4)\n",
    "\n",
    "println(repeat('+', 60))"
   ]
  },
  {
   "cell_type": "code",
   "execution_count": null,
   "id": "559a6316-bf98-41c5-951a-5044ca1d403b",
   "metadata": {},
   "outputs": [],
   "source": []
  }
 ],
 "metadata": {
  "kernelspec": {
   "display_name": "julia 1.10.4",
   "language": "julia",
   "name": "julia-1.10"
  },
  "language_info": {
   "file_extension": ".jl",
   "mimetype": "application/julia",
   "name": "julia",
   "version": "1.10.4"
  }
 },
 "nbformat": 4,
 "nbformat_minor": 5
}
