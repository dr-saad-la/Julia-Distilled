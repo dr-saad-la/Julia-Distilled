{
 "cells": [
  {
   "cell_type": "code",
   "execution_count": 1,
   "id": "016bea36-6b11-41a1-b088-f82c6a6160c4",
   "metadata": {
    "tags": []
   },
   "outputs": [],
   "source": [
    "# ---------------------------------------------------------- \n",
    "#    Chap 01: String Variables in Julia\n",
    "#    Author: Dr. Saad Laouadi\n",
    "# \n",
    "#.   Copyright to Dr Saad Laouadi\n",
    "#   Using the examples from the notebook directly into \n",
    "#.  lecture is not allowed.\n",
    "# -----------------------------------------------------------"
   ]
  },
  {
   "cell_type": "markdown",
   "id": "0fe80967-1541-41f9-a238-eaaaf06451ad",
   "metadata": {},
   "source": [
    "## String Variables in Julia "
   ]
  },
  {
   "cell_type": "code",
   "execution_count": 2,
   "id": "25d7832c-4bd5-4059-9839-e07dbe4ab407",
   "metadata": {
    "tags": []
   },
   "outputs": [],
   "source": [
    "# Code used for examples in this notebook\n",
    "using Base\n",
    "function print_banner(char::Char, num_chars::Int, message::String)\n",
    "    border = repeat(string(char), num_chars)\n",
    "    \n",
    "    total_padding = num_chars - length(message)\n",
    "    left_padding = total_padding ÷ 2\n",
    "    right_padding = total_padding - left_padding\n",
    "    \n",
    "    centered_message = repeat(\" \", \n",
    "        left_padding) * message * repeat(\" \", right_padding)\n",
    "    \n",
    "    println(border)\n",
    "    println(centered_message)\n",
    "    println(border)\n",
    "end;\n",
    "\n",
    "# Function to display the type and size of a variable\n",
    "function display_variable_info(var_name::String, var_value)\n",
    "    println(\"$var_name:\")\n",
    "    println(\"  Value       : $var_value\")\n",
    "    println(\"  Type        : $(typeof(var_value))\")\n",
    "    println(\"  Memory Size : $(sizeof(var_value)) bytes\")\n",
    "    println()\n",
    "end;"
   ]
  },
  {
   "cell_type": "code",
   "execution_count": 5,
   "id": "ae8e71b5-5373-4712-b65e-5c999a6c519c",
   "metadata": {
    "tags": []
   },
   "outputs": [
    {
     "data": {
      "text/plain": [
       "\"Unicode: π, θ, λ\""
      ]
     },
     "execution_count": 5,
     "metadata": {},
     "output_type": "execute_result"
    }
   ],
   "source": [
    "# Define string variables\n",
    "str_hello::String = \"Hello, World!\"                 # Simple string\n",
    "str_multiline::String = \"\"\"This is a\n",
    "multiline string\"\"\"                                 # Multiline string\n",
    "str_empty::String = \"\"                              # Empty string\n",
    "str_special::String = \"Special characters: @#\\$%^&*\" # String with special characters\n",
    "str_unicode::String = \"Unicode: π, θ, λ\";            # String with Unicode characters"
   ]
  },
  {
   "cell_type": "code",
   "execution_count": 7,
   "id": "7ea82e35-f2f1-4890-9ed0-ad445bbe5e63",
   "metadata": {
    "tags": []
   },
   "outputs": [
    {
     "name": "stdout",
     "output_type": "stream",
     "text": [
      "++++++++++++++++++++++++++++++++++++++++++++++++++++++++++++\n",
      "           Display information of Char Variables            \n",
      "++++++++++++++++++++++++++++++++++++++++++++++++++++++++++++\n",
      "str_hello:\n",
      "  Value       : Hello, World!\n",
      "  Type        : String\n",
      "  Memory Size : 13 bytes\n",
      "\n",
      "str_multiline:\n",
      "  Value       : This is a\n",
      "multiline string\n",
      "  Type        : String\n",
      "  Memory Size : 26 bytes\n",
      "\n",
      "str_empty:\n",
      "  Value       : \n",
      "  Type        : String\n",
      "  Memory Size : 0 bytes\n",
      "\n",
      "str_special:\n",
      "  Value       : Special characters: @#$%^&*\n",
      "  Type        : String\n",
      "  Memory Size : 27 bytes\n",
      "\n",
      "str_unicode:\n",
      "  Value       : Unicode: π, θ, λ\n",
      "  Type        : String\n",
      "  Memory Size : 19 bytes\n",
      "\n",
      "++++++++++++++++++++++++++++++++++++++++++++++++++++++++++++++\n",
      "                   Basic String operations                    \n",
      "++++++++++++++++++++++++++++++++++++++++++++++++++++++++++++++\n",
      "  Concatenation: Hello, World! Special characters: @#$%^&*\n",
      "  Length of str_hello: 13\n",
      "  Length of str_empty: 0\n",
      "  First character of str_hello: H\n",
      "  Slice of str_hello (1:5): Hello\n",
      "String Comparisons:\n",
      "  'Hello' == 'hello': false\n",
      "  'Hello' != 'hello': true\n",
      "  'Hello' < 'hello': true\n",
      "  'Hello' > 'hello': false\n",
      "Complex String Expressions:\n",
      "  Uppercase and lowercase concatenation: HELLO, WORLD! special characters: @#$%^&*\n",
      "  Does str_hello contain 'World'?: true\n",
      "++++++++++++++++++++++++++++++++++++++++++++++++++++++++++++\n"
     ]
    }
   ],
   "source": [
    "print_banner('+', 60, \"Display information of Char Variables\")\n",
    "\n",
    "# Display information for each string variable\n",
    "display_variable_info(\"str_hello\", str_hello)\n",
    "display_variable_info(\"str_multiline\", str_multiline)\n",
    "display_variable_info(\"str_empty\", str_empty)\n",
    "display_variable_info(\"str_special\", str_special)\n",
    "display_variable_info(\"str_unicode\", str_unicode)\n",
    "\n",
    "print_banner('+', 62, \"Basic String operations\")\n",
    "\n",
    "# String concatenation\n",
    "concat_str = str_hello * \" \" * str_special\n",
    "println(\"  Concatenation: \", concat_str)\n",
    "\n",
    "# String length\n",
    "println(\"  Length of str_hello: \", length(str_hello))\n",
    "println(\"  Length of str_empty: \", length(str_empty))\n",
    "\n",
    "# String indexing and slicing\n",
    "println(\"  First character of str_hello: \", str_hello[1])\n",
    "println(\"  Slice of str_hello (1:5): \", str_hello[1:5])\n",
    "\n",
    "# String comparison\n",
    "println(\"String Comparisons:\")\n",
    "println(\"  'Hello' == 'hello': \", \"Hello\" == \"hello\")\n",
    "println(\"  'Hello' != 'hello': \", \"Hello\" != \"hello\")\n",
    "println(\"  'Hello' < 'hello': \", \"Hello\" < \"hello\")\n",
    "println(\"  'Hello' > 'hello': \", \"Hello\" > \"hello\")\n",
    "\n",
    "# Complex string expressions\n",
    "println(\"Complex String Expressions:\")\n",
    "complex_expr1 = uppercase(str_hello) * \" \" * lowercase(str_special)\n",
    "println(\"  Uppercase and lowercase concatenation: \", complex_expr1)\n",
    "\n",
    "complex_expr2 = contains(str_hello, \"World\")\n",
    "println(\"  Does str_hello contain 'World'?: \", complex_expr2)\n",
    "\n",
    "println(repeat('+', 60))"
   ]
  },
  {
   "cell_type": "code",
   "execution_count": null,
   "id": "559a6316-bf98-41c5-951a-5044ca1d403b",
   "metadata": {},
   "outputs": [],
   "source": []
  }
 ],
 "metadata": {
  "kernelspec": {
   "display_name": "julia 1.10.4",
   "language": "julia",
   "name": "julia-1.10"
  },
  "language_info": {
   "file_extension": ".jl",
   "mimetype": "application/julia",
   "name": "julia",
   "version": "1.10.4"
  }
 },
 "nbformat": 4,
 "nbformat_minor": 5
}
