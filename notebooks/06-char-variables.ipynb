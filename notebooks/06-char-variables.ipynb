{
 "cells": [
  {
   "cell_type": "code",
   "execution_count": 1,
   "id": "016bea36-6b11-41a1-b088-f82c6a6160c4",
   "metadata": {
    "tags": []
   },
   "outputs": [],
   "source": [
    "# ---------------------------------------------------------- \n",
    "#    Chap 01: Char Variables in Julia\n",
    "#    Author: Dr. Saad Laouadi\n",
    "# \n",
    "#.   Copyright to Dr Saad Laouadi\n",
    "#   Using the examples from the notebook directly into \n",
    "#.  lecture is not allowed.\n",
    "# -----------------------------------------------------------"
   ]
  },
  {
   "cell_type": "markdown",
   "id": "0fe80967-1541-41f9-a238-eaaaf06451ad",
   "metadata": {},
   "source": [
    "## Char Variables in Julia "
   ]
  },
  {
   "cell_type": "code",
   "execution_count": 2,
   "id": "25d7832c-4bd5-4059-9839-e07dbe4ab407",
   "metadata": {
    "tags": []
   },
   "outputs": [],
   "source": [
    "# Code used for examples in this notebook\n",
    "using Base\n",
    "function print_banner(char::Char, num_chars::Int, message::String)\n",
    "    border = repeat(string(char), num_chars)\n",
    "    \n",
    "    total_padding = num_chars - length(message)\n",
    "    left_padding = total_padding ÷ 2\n",
    "    right_padding = total_padding - left_padding\n",
    "    \n",
    "    centered_message = repeat(\" \", \n",
    "        left_padding) * message * repeat(\" \", right_padding)\n",
    "    \n",
    "    println(border)\n",
    "    println(centered_message)\n",
    "    println(border)\n",
    "end;\n",
    "\n",
    "# Function to display the type and size of a variable\n",
    "function display_variable_info(var_name::String, var_value)\n",
    "    println(\"$var_name:\")\n",
    "    println(\"  Value       : $var_value\")\n",
    "    println(\"  Type        : $(typeof(var_value))\")\n",
    "    println(\"  Memory Size : $(sizeof(var_value)) bytes\")\n",
    "    println()\n",
    "end;"
   ]
  },
  {
   "cell_type": "code",
   "execution_count": 3,
   "id": "ae8e71b5-5373-4712-b65e-5c999a6c519c",
   "metadata": {
    "tags": []
   },
   "outputs": [
    {
     "data": {
      "text/plain": [
       "'π': Unicode U+03C0 (category Ll: Letter, lowercase)"
      ]
     },
     "execution_count": 3,
     "metadata": {},
     "output_type": "execute_result"
    }
   ],
   "source": [
    "# Define character variables\n",
    "char_a::Char = 'a';          # Lowercase character\n",
    "char_A::Char = 'A';          # Uppercase character\n",
    "char_1::Char = '1';          # Numeric character\n",
    "char_special::Char = '@';    # Special character\n",
    "char_unicode::Char = 'π';    # Unicode character"
   ]
  },
  {
   "cell_type": "code",
   "execution_count": 4,
   "id": "7ea82e35-f2f1-4890-9ed0-ad445bbe5e63",
   "metadata": {
    "tags": []
   },
   "outputs": [
    {
     "name": "stdout",
     "output_type": "stream",
     "text": [
      "++++++++++++++++++++++++++++++++++++++++++++++++++++++++++++\n",
      "           Display information of Char Variables            \n",
      "++++++++++++++++++++++++++++++++++++++++++++++++++++++++++++\n",
      "char_a:\n",
      "  Value       : a\n",
      "  Type        : Char\n",
      "  Memory Size : 4 bytes\n",
      "\n",
      "char_A:\n",
      "  Value       : A\n",
      "  Type        : Char\n",
      "  Memory Size : 4 bytes\n",
      "\n",
      "char_1:\n",
      "  Value       : 1\n",
      "  Type        : Char\n",
      "  Memory Size : 4 bytes\n",
      "\n",
      "char_special:\n",
      "  Value       : @\n",
      "  Type        : Char\n",
      "  Memory Size : 4 bytes\n",
      "\n",
      "char_unicode:\n",
      "  Value       : π\n",
      "  Type        : Char\n",
      "  Memory Size : 4 bytes\n",
      "\n",
      "++++++++++++++++++++++++++++++++++++++++++++++++++++++++++++++\n",
      "                 Simple Character Operations                  \n",
      "++++++++++++++++++++++++++++++++++++++++++++++++++++++++++++++\n",
      "  Is 'a' an alphabetic character?: true\n",
      "  Is '1' a digit?: true\n",
      "  Is '@' a punctuation character?: true\n",
      "  Uppercase of 'a': A\n",
      "  Lowercase of 'A': a\n",
      "++++++++++++++++++++++++++++++++++++++++++++++++++++++++++++++\n",
      "                     Comparing characters                     \n",
      "++++++++++++++++++++++++++++++++++++++++++++++++++++++++++++++\n",
      "Character Comparisons:\n",
      "  'a' == 'A': false\n",
      "  'a' < 'A': false\n",
      "  'a' > 'A': true\n",
      "Complex Character Expressions:\n",
      "  Uppercase('a') == 'A': true\n",
      "  Is 'a' a letter and not a digit?: true\n",
      "++++++++++++++++++++++++++++++++++++++++++++++++++++++++++++\n"
     ]
    }
   ],
   "source": [
    "print_banner('+', 60, \"Display information of Char Variables\")\n",
    "\n",
    "\n",
    "display_variable_info(\"char_a\", char_a)\n",
    "display_variable_info(\"char_A\", char_A)\n",
    "display_variable_info(\"char_1\", char_1)\n",
    "display_variable_info(\"char_special\", char_special)\n",
    "display_variable_info(\"char_unicode\", char_unicode)\n",
    "\n",
    "# Character operations\n",
    "print_banner('+', 62, \"Simple Character Operations\")\n",
    "\n",
    "# Checking character properties\n",
    "println(\"  Is 'a' an alphabetic character?: \", isletter(char_a))\n",
    "println(\"  Is '1' a digit?: \", isdigit(char_1))\n",
    "println(\"  Is '@' a punctuation character?: \", ispunct(char_special))\n",
    "println(\"  Uppercase of 'a': \", uppercase(char_a))\n",
    "println(\"  Lowercase of 'A': \", lowercase(char_A))\n",
    "\n",
    "print_banner('+', 62, \"Comparing characters\")\n",
    "\n",
    "println(\"Character Comparisons:\")\n",
    "println(\"  'a' == 'A': \", char_a == char_A)\n",
    "println(\"  'a' < 'A': \", char_a < char_A)\n",
    "println(\"  'a' > 'A': \", char_a > char_A)\n",
    "\n",
    "\n",
    "# Complex character expressions\n",
    "println(\"Complex Character Expressions:\")\n",
    "complex_expr1 = uppercase(char_a) == char_A\n",
    "println(\"  Uppercase('a') == 'A': \", complex_expr1)\n",
    "\n",
    "complex_expr2 = isletter(char_a) && !isdigit(char_a)\n",
    "println(\"  Is 'a' a letter and not a digit?: \", complex_expr2)\n",
    "\n",
    "println(repeat('+', 60))"
   ]
  },
  {
   "cell_type": "code",
   "execution_count": null,
   "id": "559a6316-bf98-41c5-951a-5044ca1d403b",
   "metadata": {},
   "outputs": [],
   "source": []
  }
 ],
 "metadata": {
  "kernelspec": {
   "display_name": "julia 1.10.4",
   "language": "julia",
   "name": "julia-1.10"
  },
  "language_info": {
   "file_extension": ".jl",
   "mimetype": "application/julia",
   "name": "julia",
   "version": "1.10.4"
  }
 },
 "nbformat": 4,
 "nbformat_minor": 5
}
