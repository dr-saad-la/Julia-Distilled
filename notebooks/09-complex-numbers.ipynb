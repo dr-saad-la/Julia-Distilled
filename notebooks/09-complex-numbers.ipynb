{
 "cells": [
  {
   "cell_type": "code",
   "execution_count": 1,
   "id": "016bea36-6b11-41a1-b088-f82c6a6160c4",
   "metadata": {
    "tags": []
   },
   "outputs": [],
   "source": [
    "# ---------------------------------------------------------- \n",
    "#    Chap 01: Complex Numbers in Julia\n",
    "#    Author: Dr. Saad Laouadi\n",
    "# \n",
    "#.   Copyright to Dr Saad Laouadi\n",
    "#   Using the examples from the notebook directly into \n",
    "#.  lecture is not allowed.\n",
    "# -----------------------------------------------------------"
   ]
  },
  {
   "cell_type": "markdown",
   "id": "0fe80967-1541-41f9-a238-eaaaf06451ad",
   "metadata": {},
   "source": [
    "## Complex Numbers in Julia "
   ]
  },
  {
   "cell_type": "code",
   "execution_count": 2,
   "id": "25d7832c-4bd5-4059-9839-e07dbe4ab407",
   "metadata": {
    "tags": []
   },
   "outputs": [],
   "source": [
    "# Code used for examples in this notebook\n",
    "using Base\n",
    "function print_banner(char::Char, num_chars::Int, message::String)\n",
    "    border = repeat(string(char), num_chars)\n",
    "    \n",
    "    total_padding = num_chars - length(message)\n",
    "    left_padding = total_padding ÷ 2\n",
    "    right_padding = total_padding - left_padding\n",
    "    \n",
    "    centered_message = repeat(\" \", \n",
    "        left_padding) * message * repeat(\" \", right_padding)\n",
    "    \n",
    "    println(border)\n",
    "    println(centered_message)\n",
    "    println(border)\n",
    "end;\n",
    "\n",
    "# Function to display the type and size of a variable\n",
    "function display_variable_info(var_name::String, var_value)\n",
    "    println(\"$var_name:\")\n",
    "    println(\"  Value       : $var_value\")\n",
    "    println(\"  Type        : $(typeof(var_value))\")\n",
    "    println(\"  Memory Size : $(sizeof(var_value)) bytes\")\n",
    "    println()\n",
    "end;"
   ]
  },
  {
   "cell_type": "code",
   "execution_count": 3,
   "id": "ae8e71b5-5373-4712-b65e-5c999a6c519c",
   "metadata": {
    "tags": []
   },
   "outputs": [],
   "source": [
    "# Define complex number variables\n",
    "complex1::Complex{Float64} = 1 + 2im          # Complex number with Float64 parts\n",
    "complex2::Complex{Float64} = 3.5 - 4.2im      # Complex number with Float64 parts\n",
    "complex3::Complex{Int64} = 2 + 3im;            # Complex number with Int64 parts"
   ]
  },
  {
   "cell_type": "code",
   "execution_count": 4,
   "id": "7ea82e35-f2f1-4890-9ed0-ad445bbe5e63",
   "metadata": {
    "tags": []
   },
   "outputs": [
    {
     "name": "stdout",
     "output_type": "stream",
     "text": [
      "++++++++++++++++++++++++++++++++++++++++++++++++++++++++++++\n",
      "         Display information about Complex Numbers          \n",
      "++++++++++++++++++++++++++++++++++++++++++++++++++++++++++++\n",
      "complex1:\n",
      "  Value       : 1.0 + 2.0im\n",
      "  Type        : ComplexF64\n",
      "  Memory Size : 16 bytes\n",
      "\n",
      "complex2:\n",
      "  Value       : 3.5 - 4.2im\n",
      "  Type        : ComplexF64\n",
      "  Memory Size : 16 bytes\n",
      "\n",
      "complex3:\n",
      "  Value       : 2 + 3im\n",
      "  Type        : Complex{Int64}\n",
      "  Memory Size : 16 bytes\n",
      "\n",
      "++++++++++++++++++++++++++++++++++++++++++++++++++++++++++++\n",
      "              Operations with Complex Numbers               \n",
      "++++++++++++++++++++++++++++++++++++++++++++++++++++++++++++\n",
      "  complex1 + complex2       : 4.5 - 2.2im\n",
      "  complex1 - complex2       : -2.5 + 6.2im\n",
      "  complex1 * complex2       : 11.9 + 2.8im\n",
      "  complex1 / complex2       : -0.16393442622950818 + 0.37470725995316156im\n",
      "  Conjugate of complex1     : 1.0 - 2.0im\n",
      "  Real part of complex1     : 1.0\n",
      "  Imaginary part of complex1: 2.0\n",
      "  Magnitude of complex1     : 2.23606797749979\n",
      "  Phase of complex1         : 1.1071487177940904\n",
      "++++++++++++++++++++++++++++++++++++++++++++++++++++++++++++\n"
     ]
    }
   ],
   "source": [
    "print_banner('+', 60, \"Display information about Complex Numbers\")\n",
    "\n",
    "# Display information for each complex number variable\n",
    "display_variable_info(\"complex1\", complex1)\n",
    "display_variable_info(\"complex2\", complex2)\n",
    "display_variable_info(\"complex3\", complex3)\n",
    "\n",
    "# Operations with complex numbers\n",
    "print_banner('+', 60, \"Operations with Complex Numbers\")\n",
    "# Addition\n",
    "add_result = complex1 + complex2\n",
    "println(\"  complex1 + complex2       : \", add_result)\n",
    "\n",
    "# Subtraction\n",
    "sub_result = complex1 - complex2\n",
    "println(\"  complex1 - complex2       : \", sub_result)\n",
    "\n",
    "# Multiplication\n",
    "mul_result = complex1 * complex2\n",
    "println(\"  complex1 * complex2       : \", mul_result)\n",
    "\n",
    "# Division\n",
    "div_result = complex1 / complex2\n",
    "println(\"  complex1 / complex2       : \", div_result)\n",
    "\n",
    "# Conjugate\n",
    "conjugate_result = conj(complex1)\n",
    "println(\"  Conjugate of complex1     : \", conjugate_result)\n",
    "\n",
    "# Real and Imaginary parts\n",
    "real_part = real(complex1)\n",
    "imag_part = imag(complex1)\n",
    "println(\"  Real part of complex1     : \", real_part)\n",
    "println(\"  Imaginary part of complex1: \", imag_part)\n",
    "\n",
    "# Magnitude and Phase\n",
    "magnitude = abs(complex1)\n",
    "phase = angle(complex1)\n",
    "println(\"  Magnitude of complex1     : \", magnitude)\n",
    "println(\"  Phase of complex1         : \", phase)\n",
    "\n",
    "println(repeat('+', 60))"
   ]
  },
  {
   "cell_type": "code",
   "execution_count": null,
   "id": "d9001013-b560-4281-bf29-53b8239c9b09",
   "metadata": {},
   "outputs": [],
   "source": []
  }
 ],
 "metadata": {
  "kernelspec": {
   "display_name": "julia 1.10.4",
   "language": "julia",
   "name": "julia-1.10"
  },
  "language_info": {
   "file_extension": ".jl",
   "mimetype": "application/julia",
   "name": "julia",
   "version": "1.10.4"
  }
 },
 "nbformat": 4,
 "nbformat_minor": 5
}
