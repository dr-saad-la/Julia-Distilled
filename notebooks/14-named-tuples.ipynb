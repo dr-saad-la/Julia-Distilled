{
 "cells": [
  {
   "cell_type": "code",
   "execution_count": 1,
   "id": "016bea36-6b11-41a1-b088-f82c6a6160c4",
   "metadata": {
    "tags": []
   },
   "outputs": [],
   "source": [
    "# ---------------------------------------------------------- \n",
    "#    Chap 01: Tuples in Julia\n",
    "#    Author: Dr. Saad Laouadi\n",
    "# \n",
    "#.   Copyright to Dr Saad Laouadi\n",
    "#   Using the examples from the notebook directly into \n",
    "#.  lecture is not allowed.\n",
    "# -----------------------------------------------------------"
   ]
  },
  {
   "cell_type": "markdown",
   "id": "0fe80967-1541-41f9-a238-eaaaf06451ad",
   "metadata": {},
   "source": [
    "## Tuples in Julia "
   ]
  },
  {
   "cell_type": "code",
   "execution_count": 2,
   "id": "25d7832c-4bd5-4059-9839-e07dbe4ab407",
   "metadata": {
    "tags": []
   },
   "outputs": [],
   "source": [
    "function print_banner(char::Char, num_chars::Int, message::String)\n",
    "    border = repeat(string(char), num_chars)\n",
    "    \n",
    "    total_padding = num_chars - length(message)\n",
    "    left_padding = total_padding ÷ 2\n",
    "    right_padding = total_padding - left_padding\n",
    "    \n",
    "    centered_message = repeat(\" \", \n",
    "        left_padding) * message * repeat(\" \", right_padding)\n",
    "    \n",
    "    println(border)\n",
    "    println(centered_message)\n",
    "    println(border)\n",
    "end;"
   ]
  },
  {
   "cell_type": "code",
   "execution_count": 3,
   "id": "ae8e71b5-5373-4712-b65e-5c999a6c519c",
   "metadata": {
    "tags": []
   },
   "outputs": [],
   "source": [
    "# Different ways to create named tuples\n",
    "named_tuple1 = (a=1, b=2, c=3)               # Creating a named tuple with specific elements\n",
    "named_tuple2 = (name=\"Alice\", age=30)        # Creating a named tuple with mixed types\n",
    "named_tuple3 = (x=1, y=\"apple\", z=3.14)      # Creating a named tuple with mixed types\n",
    "named_tuple4 = (d=1.0, e=\"banana\", f=true)   # Creating a named tuple with mixed types\n",
    "named_tuple5 = (g=1:5, h=6:10);               # Creating a named tuple with ranges"
   ]
  }
 ],
 "metadata": {
  "kernelspec": {
   "display_name": "julia 1.10.4",
   "language": "julia",
   "name": "julia-1.10"
  },
  "language_info": {
   "file_extension": ".jl",
   "mimetype": "application/julia",
   "name": "julia",
   "version": "1.10.4"
  }
 },
 "nbformat": 4,
 "nbformat_minor": 5
}
