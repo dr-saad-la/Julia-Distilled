{
 "cells": [
  {
   "cell_type": "code",
   "execution_count": 1,
   "id": "016bea36-6b11-41a1-b088-f82c6a6160c4",
   "metadata": {
    "tags": []
   },
   "outputs": [],
   "source": [
    "# ---------------------------------------------------------- \n",
    "#    Chap 01: Tuples in Julia\n",
    "#    Author: Dr. Saad Laouadi\n",
    "# \n",
    "#.   Copyright to Dr Saad Laouadi\n",
    "#   Using the examples from the notebook directly into \n",
    "#.  lecture is not allowed.\n",
    "# -----------------------------------------------------------"
   ]
  },
  {
   "cell_type": "markdown",
   "id": "0fe80967-1541-41f9-a238-eaaaf06451ad",
   "metadata": {},
   "source": [
    "## Tuples in Julia "
   ]
  },
  {
   "cell_type": "code",
   "execution_count": 2,
   "id": "25d7832c-4bd5-4059-9839-e07dbe4ab407",
   "metadata": {
    "tags": []
   },
   "outputs": [],
   "source": [
    "function print_banner(char::Char, num_chars::Int, message::String)\n",
    "    border = repeat(string(char), num_chars)\n",
    "    \n",
    "    total_padding = num_chars - length(message)\n",
    "    left_padding = total_padding ÷ 2\n",
    "    right_padding = total_padding - left_padding\n",
    "    \n",
    "    centered_message = repeat(\" \", \n",
    "        left_padding) * message * repeat(\" \", right_padding)\n",
    "    \n",
    "    println(border)\n",
    "    println(centered_message)\n",
    "    println(border)\n",
    "end;"
   ]
  },
  {
   "cell_type": "code",
   "execution_count": 3,
   "id": "ae8e71b5-5373-4712-b65e-5c999a6c519c",
   "metadata": {
    "tags": []
   },
   "outputs": [],
   "source": [
    "# Different ways to create named tuples\n",
    "named_tuple1 = (a=1, b=2, c=3)               # Creating a named tuple with specific elements\n",
    "named_tuple2 = (name=\"Alice\", age=30)        # Creating a named tuple with mixed types\n",
    "named_tuple3 = (x=1, y=\"apple\", z=3.14)      # Creating a named tuple with mixed types\n",
    "named_tuple4 = (d=1.0, e=\"banana\", f=true)   # Creating a named tuple with mixed types\n",
    "named_tuple5 = (g=1:5, h=6:10);               # Creating a named tuple with ranges"
   ]
  },
  {
   "cell_type": "code",
   "execution_count": 4,
   "id": "7ea82e35-f2f1-4890-9ed0-ad445bbe5e63",
   "metadata": {
    "tags": []
   },
   "outputs": [
    {
     "name": "stdout",
     "output_type": "stream",
     "text": [
      "++++++++++++++++++++++++++++++++++++++++++++++++++++++++++++\n",
      "                      Tuples in Julia                       \n",
      "++++++++++++++++++++++++++++++++++++++++++++++++++++++++++++\n",
      "named_tuple1: (a = 1, b = 2, c = 3)\n",
      "named_tuple2: (name = \"Alice\", age = 30)\n",
      "named_tuple3: (x = 1, y = \"apple\", z = 3.14)\n",
      "named_tuple4: (d = 1.0, e = \"banana\", f = true)\n",
      "named_tuple5: (g = 1:5, h = 6:10)\n",
      "++++++++++++++++++++++++++++++++++++++++++++++++++++++++++++++\n",
      "             Basic Operations with Named Tuples:              \n",
      "++++++++++++++++++++++++++++++++++++++++++++++++++++++++++++++\n",
      "  Element 'a' of named_tuple1: 1\n",
      "  Element 'name' of named_tuple2: Alice\n",
      "  First element of named_tuple3: 1\n",
      "  Second element of named_tuple3: apple\n",
      "  Length of named_tuple1: 3\n",
      "  Iterating over named_tuple1: \n",
      "    a => 1\n",
      "    b => 2\n",
      "    c => 3\n",
      "  Unpacked elements of named_tuple1: 1, 2, 3\n",
      "\n",
      "Named Tuple Comprehensions:\n",
      "named_tuple_comprehension: (a = 1, b = 2, c = 3, d = 4, e = 5)\n",
      "++++++++++++++++++++++++++++++++++++++++++++++++++++++++++++\n"
     ]
    }
   ],
   "source": [
    "print_banner('+', 60, \"Tuples in Julia\")\n",
    "\n",
    "# Displaying named tuples\n",
    "println(\"named_tuple1: \", named_tuple1)\n",
    "println(\"named_tuple2: \", named_tuple2)\n",
    "println(\"named_tuple3: \", named_tuple3)\n",
    "println(\"named_tuple4: \", named_tuple4)\n",
    "println(\"named_tuple5: \", named_tuple5)\n",
    "\n",
    "# Basic operations with named tuples\n",
    "print_banner('+', 62, \"Basic Operations with Named Tuples:\")\n",
    "\n",
    "# Accessing elements by name\n",
    "println(\"  Element 'a' of named_tuple1: \", named_tuple1.a)\n",
    "println(\"  Element 'name' of named_tuple2: \", named_tuple2.name)\n",
    "\n",
    "# Accessing elements by index\n",
    "println(\"  First element of named_tuple3: \", named_tuple3[1])\n",
    "println(\"  Second element of named_tuple3: \", named_tuple3[2])\n",
    "\n",
    "# Length of the named tuple\n",
    "println(\"  Length of named_tuple1: \", length(named_tuple1))\n",
    "\n",
    "# Iterating over elements in a named tuple\n",
    "println(\"  Iterating over named_tuple1: \")\n",
    "for (key, value) in pairs(named_tuple1)\n",
    "    println(\"    \", key, \" => \", value)\n",
    "end\n",
    "\n",
    "# Unpacking named tuple elements\n",
    "a, b, c = named_tuple1\n",
    "println(\"  Unpacked elements of named_tuple1: \", a, \", \", b, \", \", c)\n",
    "\n",
    "# Creating named tuples using comprehensions\n",
    "println(\"\\nNamed Tuple Comprehensions:\")\n",
    "keys = [:a, :b, :c, :d, :e]\n",
    "values = [1, 2, 3, 4, 5]\n",
    "named_tuple_comprehension = (; (key => value for (key, value) in zip(keys, values))...)\n",
    "\n",
    "# Displaying named tuples created using comprehensions\n",
    "println(\"named_tuple_comprehension: \", named_tuple_comprehension)\n",
    "\n",
    "println(repeat('+', 60))"
   ]
  }
 ],
 "metadata": {
  "kernelspec": {
   "display_name": "julia 1.10.4",
   "language": "julia",
   "name": "julia-1.10"
  },
  "language_info": {
   "file_extension": ".jl",
   "mimetype": "application/julia",
   "name": "julia",
   "version": "1.10.4"
  }
 },
 "nbformat": 4,
 "nbformat_minor": 5
}
