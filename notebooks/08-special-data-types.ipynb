{
 "cells": [
  {
   "cell_type": "code",
   "execution_count": 1,
   "id": "016bea36-6b11-41a1-b088-f82c6a6160c4",
   "metadata": {
    "tags": []
   },
   "outputs": [],
   "source": [
    "# ---------------------------------------------------------- \n",
    "#    Chap 01: Special Data Types in Julia\n",
    "#    Author: Dr. Saad Laouadi\n",
    "# \n",
    "#.   Copyright to Dr Saad Laouadi\n",
    "#   Using the examples from the notebook directly into \n",
    "#.  lecture is not allowed.\n",
    "# -----------------------------------------------------------"
   ]
  },
  {
   "cell_type": "markdown",
   "id": "0fe80967-1541-41f9-a238-eaaaf06451ad",
   "metadata": {},
   "source": [
    "## Special Data Types Julia "
   ]
  },
  {
   "cell_type": "code",
   "execution_count": 2,
   "id": "25d7832c-4bd5-4059-9839-e07dbe4ab407",
   "metadata": {
    "tags": []
   },
   "outputs": [],
   "source": [
    "# Code used for examples in this notebook\n",
    "using Base\n",
    "function print_banner(char::Char, num_chars::Int, message::String)\n",
    "    border = repeat(string(char), num_chars)\n",
    "    \n",
    "    total_padding = num_chars - length(message)\n",
    "    left_padding = total_padding ÷ 2\n",
    "    right_padding = total_padding - left_padding\n",
    "    \n",
    "    centered_message = repeat(\" \", \n",
    "        left_padding) * message * repeat(\" \", right_padding)\n",
    "    \n",
    "    println(border)\n",
    "    println(centered_message)\n",
    "    println(border)\n",
    "end;\n",
    "\n",
    "# Function to display the type and size of a variable\n",
    "function display_variable_info(var_name::String, var_value)\n",
    "    println(\"$var_name:\")\n",
    "    println(\"  Value       : $var_value\")\n",
    "    println(\"  Type        : $(typeof(var_value))\")\n",
    "    println(\"  Memory Size : $(sizeof(var_value)) bytes\")\n",
    "    println()\n",
    "end;"
   ]
  },
  {
   "cell_type": "code",
   "execution_count": 3,
   "id": "ae8e71b5-5373-4712-b65e-5c999a6c519c",
   "metadata": {
    "tags": []
   },
   "outputs": [],
   "source": [
    "# Define special variables\n",
    "const_pi = π                   # Pi constant\n",
    "const_e = ℯ                   # Euler's number constant\n",
    "nothing_var = nothing          # Nothing (represents the absence of a value)\n",
    "env_var = ENV[\"PATH\"];          # Environment variable (PATH)"
   ]
  },
  {
   "cell_type": "code",
   "execution_count": 4,
   "id": "7ea82e35-f2f1-4890-9ed0-ad445bbe5e63",
   "metadata": {
    "tags": []
   },
   "outputs": [
    {
     "name": "stdout",
     "output_type": "stream",
     "text": [
      "++++++++++++++++++++++++++++++++++++++++++++++++++++++++++++\n",
      "          Display information of Special Variables          \n",
      "++++++++++++++++++++++++++++++++++++++++++++++++++++++++++++\n",
      "const_pi:\n",
      "  Value       : π\n",
      "  Type        : Irrational{:π}\n",
      "  Memory Size : 0 bytes\n",
      "\n",
      "const_e:\n",
      "  Value       : ℯ\n",
      "  Type        : Irrational{:ℯ}\n",
      "  Memory Size : 0 bytes\n",
      "\n",
      "nothing_var:\n",
      "  Value       : nothing\n",
      "  Type        : Nothing\n",
      "  Memory Size : 0 bytes\n",
      "\n",
      "Operations with Special Variables:\n",
      "  Circumference of a circle with radius 5: 31.41592653589793\n",
      "  Is nothing_var equal to nothing?: true\n",
      "++++++++++++++++++++++++++++++++++++++++++++++++++++++++++++\n"
     ]
    }
   ],
   "source": [
    "print_banner('+', 60, \"Display information of Special Variables\")\n",
    "\n",
    "# Display information for each special variable\n",
    "display_variable_info(\"const_pi\", const_pi)\n",
    "display_variable_info(\"const_e\", const_e)\n",
    "display_variable_info(\"nothing_var\", nothing_var)\n",
    "# display_variable_info(\"env_var\", env_var)\n",
    "\n",
    "# Operations with special variables\n",
    "println(\"Operations with Special Variables:\")\n",
    "\n",
    "# Using Pi constant in a calculation\n",
    "circle_radius = 5\n",
    "circle_circumference = 2 * const_pi * circle_radius\n",
    "println(\"  Circumference of a circle with radius 5: \", circle_circumference)\n",
    "\n",
    "# Checking if a variable is nothing\n",
    "is_nothing = nothing_var === nothing\n",
    "println(\"  Is nothing_var equal to nothing?: \", is_nothing)\n",
    "\n",
    "# Using environment variable\n",
    "# println(\"  PATH environment variable: \", env_var)\n",
    "\n",
    "println(repeat('+', 60))"
   ]
  },
  {
   "cell_type": "code",
   "execution_count": 5,
   "id": "559a6316-bf98-41c5-951a-5044ca1d403b",
   "metadata": {},
   "outputs": [],
   "source": [
    "# Define variables of type Any\n",
    "any_int::Any = 42                   # Integer value\n",
    "any_float::Any = 3.14159            # Floating-point value\n",
    "any_string::Any = \"Hello, Julia!\"   # String value\n",
    "any_bool::Any = true                # Boolean value\n",
    "any_nothing::Any = nothing          # Nothing value"
   ]
  },
  {
   "cell_type": "code",
   "execution_count": 6,
   "id": "144e6aab-fe4e-4c28-afa9-5a6a3872bbcf",
   "metadata": {
    "tags": []
   },
   "outputs": [
    {
     "name": "stdout",
     "output_type": "stream",
     "text": [
      "++++++++++++++++++++++++++++++++++++++++++++++++++++++++++++\n",
      "                   Variables of type Any                    \n",
      "++++++++++++++++++++++++++++++++++++++++++++++++++++++++++++\n",
      "any_int:\n",
      "  Value       : 42\n",
      "  Type        : Int64\n",
      "  Memory Size : 8 bytes\n",
      "\n",
      "any_float:\n",
      "  Value       : 3.14159\n",
      "  Type        : Float64\n",
      "  Memory Size : 8 bytes\n",
      "\n",
      "any_string:\n",
      "  Value       : Hello, Julia!\n",
      "  Type        : String\n",
      "  Memory Size : 13 bytes\n",
      "\n",
      "any_bool:\n",
      "  Value       : true\n",
      "  Type        : Bool\n",
      "  Memory Size : 1 bytes\n",
      "\n",
      "any_nothing:\n",
      "  Value       : nothing\n",
      "  Type        : Nothing\n",
      "  Memory Size : 0 bytes\n",
      "\n",
      "Operations with Variables of Type Any:\n",
      "  any_int is an Integer: 43\n",
      "  any_float is a Float64: 6.28318\n",
      "  any_string is a String: Hello, Julia! How are you?\n",
      "  any_bool is a Boolean: false\n",
      "  any_nothing is Nothing: true\n",
      "++++++++++++++++++++++++++++++++++++++++++++++++++++++++++++++\n"
     ]
    }
   ],
   "source": [
    "print_banner('+', 60, \"Variables of type Any\")\n",
    "\n",
    "# Display information for each variable of type Any\n",
    "display_variable_info(\"any_int\", any_int)\n",
    "display_variable_info(\"any_float\", any_float)\n",
    "display_variable_info(\"any_string\", any_string)\n",
    "display_variable_info(\"any_bool\", any_bool)\n",
    "display_variable_info(\"any_nothing\", any_nothing)\n",
    "\n",
    "# Operations with variables of type Any\n",
    "println(\"Operations with Variables of Type Any:\")\n",
    "\n",
    "# Perform type-specific operations\n",
    "if typeof(any_int) == Int\n",
    "    println(\"  any_int is an Integer: \", any_int + 1)\n",
    "end\n",
    "\n",
    "if typeof(any_float) == Float64\n",
    "    println(\"  any_float is a Float64: \", any_float * 2)\n",
    "end\n",
    "\n",
    "if typeof(any_string) == String\n",
    "    println(\"  any_string is a String: \", any_string * \" How are you?\")\n",
    "end\n",
    "\n",
    "if typeof(any_bool) == Bool\n",
    "    println(\"  any_bool is a Boolean: \", !any_bool)\n",
    "end\n",
    "\n",
    "if typeof(any_nothing) == Nothing\n",
    "    println(\"  any_nothing is Nothing: \", any_nothing === nothing)\n",
    "end\n",
    "\n",
    "println(repeat('+', 62))"
   ]
  },
  {
   "cell_type": "code",
   "execution_count": 7,
   "id": "75ab3a71-be88-4689-b366-25d34461ec3b",
   "metadata": {
    "tags": []
   },
   "outputs": [],
   "source": [
    "# Define special floating-point values\n",
    "positive_inf::Float64 = Inf            # Positive infinity\n",
    "negative_inf::Float64 = -Inf           # Negative infinity\n",
    "nan_value::Float64 = NaN               # Not a Number (NaN)\n",
    "missing_value = missing;                # Missing value"
   ]
  },
  {
   "cell_type": "code",
   "execution_count": 8,
   "id": "ee6b4fc4-16a5-497c-b50c-f15c8ffb3511",
   "metadata": {
    "tags": []
   },
   "outputs": [
    {
     "name": "stdout",
     "output_type": "stream",
     "text": [
      "++++++++++++++++++++++++++++++++++++++++++++++++++++++++++++++\n",
      "                Other Special Values in Julia                 \n",
      "++++++++++++++++++++++++++++++++++++++++++++++++++++++++++++++\n",
      "positive_inf:\n",
      "  Value       : Inf\n",
      "  Type        : Float64\n",
      "  Memory Size : 8 bytes\n",
      "\n",
      "negative_inf:\n",
      "  Value       : -Inf\n",
      "  Type        : Float64\n",
      "  Memory Size : 8 bytes\n",
      "\n",
      "nan_value:\n",
      "  Value       : NaN\n",
      "  Type        : Float64\n",
      "  Memory Size : 8 bytes\n",
      "\n",
      "missing_value:\n",
      "  Value       : missing\n",
      "  Type        : Missing\n",
      "  Memory Size : 0 bytes\n",
      "\n",
      "Operations with Special Values:\n",
      "  positive_inf + 1       : Inf\n",
      "  negative_inf - 1       : -Inf\n",
      "  positive_inf * 2       : Inf\n",
      "  negative_inf / 2       : -Inf\n",
      "  positive_inf > 1000    : true\n",
      "  negative_inf < -1000   : true\n",
      "  nan_value + 1          : NaN\n",
      "  nan_value * 2          : NaN\n",
      "  is NaN == NaN          : false\n",
      "  is NaN?: true\n",
      "  missing_value is missing: true\n",
      "  Sum of data without missing values: 7\n",
      "++++++++++++++++++++++++++++++++++++++++++++++++++++++++++++++\n"
     ]
    }
   ],
   "source": [
    "print_banner('+', 62, \"Other Special Values in Julia\")\n",
    "\n",
    "# Display information for each special value\n",
    "display_variable_info(\"positive_inf\", positive_inf)\n",
    "display_variable_info(\"negative_inf\", negative_inf)\n",
    "display_variable_info(\"nan_value\", nan_value)\n",
    "display_variable_info(\"missing_value\", missing_value)\n",
    "\n",
    "# Operations with special values\n",
    "println(\"Operations with Special Values:\")\n",
    "\n",
    "# Arithmetic with infinity\n",
    "println(\"  positive_inf + 1       : \", positive_inf + 1)\n",
    "println(\"  negative_inf - 1       : \", negative_inf - 1)\n",
    "println(\"  positive_inf * 2       : \", positive_inf * 2)\n",
    "println(\"  negative_inf / 2       : \", negative_inf / 2)\n",
    "\n",
    "# Comparisons with infinity\n",
    "println(\"  positive_inf > 1000    : \", positive_inf > 1000)\n",
    "println(\"  negative_inf < -1000   : \", negative_inf < -1000)\n",
    "\n",
    "# Arithmetic with NaN\n",
    "println(\"  nan_value + 1          : \", nan_value + 1)\n",
    "println(\"  nan_value * 2          : \", nan_value * 2)\n",
    "println(\"  is NaN == NaN          : \", nan_value == NaN)\n",
    "\n",
    "# Checking for NaN\n",
    "println(\"  is NaN?: \", isnan(nan_value))\n",
    "\n",
    "# Working with missing values\n",
    "println(\"  missing_value is missing: \", missing_value === missing)\n",
    "\n",
    "# Handling missing values in calculations\n",
    "data = [1, 2, missing, 4]\n",
    "sum_without_missing = sum(skipmissing(data))\n",
    "println(\"  Sum of data without missing values: \", sum_without_missing)\n",
    "\n",
    "println(repeat('+', 62));"
   ]
  },
  {
   "cell_type": "code",
   "execution_count": null,
   "id": "d9001013-b560-4281-bf29-53b8239c9b09",
   "metadata": {},
   "outputs": [],
   "source": []
  }
 ],
 "metadata": {
  "kernelspec": {
   "display_name": "julia 1.10.4",
   "language": "julia",
   "name": "julia-1.10"
  },
  "language_info": {
   "file_extension": ".jl",
   "mimetype": "application/julia",
   "name": "julia",
   "version": "1.10.4"
  }
 },
 "nbformat": 4,
 "nbformat_minor": 5
}
