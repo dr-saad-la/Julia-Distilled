{
 "cells": [
  {
   "cell_type": "markdown",
   "id": "0fe80967-1541-41f9-a238-eaaaf06451ad",
   "metadata": {},
   "source": [
    "## Integer Variables in Julia "
   ]
  },
  {
   "cell_type": "code",
   "execution_count": 1,
   "id": "25d7832c-4bd5-4059-9839-e07dbe4ab407",
   "metadata": {
    "tags": []
   },
   "outputs": [],
   "source": [
    "# Import the Base module to use the sizeof function\n",
    "using Base\n",
    "\n",
    "# A function to print a nice banner on the stdouot\n",
    "function print_banner(char::Char, num_chars::Int, message::String)\n",
    "    border = repeat(string(char), num_chars)\n",
    "    \n",
    "    total_padding = num_chars - length(message)\n",
    "    left_padding = total_padding ÷ 2\n",
    "    right_padding = total_padding - left_padding\n",
    "    \n",
    "    centered_message = repeat(\" \", \n",
    "        left_padding) * message * repeat(\" \", right_padding)\n",
    "    \n",
    "    println(border)\n",
    "    println(centered_message)\n",
    "    println(border)\n",
    "end;\n",
    "\n",
    "# Function to display the type and size of a variable\n",
    "function display_variable_info(var_name::String, var_value)\n",
    "    println(\"$var_name:\")\n",
    "    println(\"  Value       : $var_value\")\n",
    "    println(\"  Type        : $(typeof(var_value))\")\n",
    "    println(\"  Memory Size : $(sizeof(var_value)) bytes\")\n",
    "    println()\n",
    "end;"
   ]
  },
  {
   "cell_type": "code",
   "execution_count": 4,
   "id": "ae8e71b5-5373-4712-b65e-5c999a6c519c",
   "metadata": {
    "tags": []
   },
   "outputs": [],
   "source": [
    "# Define integer variables of different types\n",
    "int8_var::Int8 = 127                          # 8-bit signed integer\n",
    "int16_var::Int16 = 32767                      # 16-bit signed integer\n",
    "int32_var::Int32 = 2147483647                 # 32-bit signed integer\n",
    "int64_var::Int64 = 9223372036854775807        # 64-bit signed integer\n",
    "\n",
    "# Define unsigned integer variables of different types\n",
    "uint8_var::UInt8 = 255                         # 8-bit unsigned integer\n",
    "uint16_var::UInt16 = 65535                     # 16-bit unsigned integer\n",
    "uint32_var::UInt32 = 4294967295                # 32-bit unsigned integer\n",
    "uint64_var::UInt64 = 18446744073709551615;     # 64-bit unsigned integer"
   ]
  },
  {
   "cell_type": "code",
   "execution_count": 3,
   "id": "7ea82e35-f2f1-4890-9ed0-ad445bbe5e63",
   "metadata": {
    "tags": []
   },
   "outputs": [
    {
     "name": "stdout",
     "output_type": "stream",
     "text": [
      "++++++++++++++++++++++++++++++++++++++++++++++++++++++++++++\n",
      "          Display information for each Intvariable          \n",
      "++++++++++++++++++++++++++++++++++++++++++++++++++++++++++++\n",
      "int8_var:\n",
      "  Value       : 127\n",
      "  Type        : Int8\n",
      "  Memory Size : 1 bytes\n",
      "\n",
      "int16_var:\n",
      "  Value       : 32767\n",
      "  Type        : Int16\n",
      "  Memory Size : 2 bytes\n",
      "\n",
      "int32_var:\n",
      "  Value       : 2147483647\n",
      "  Type        : Int32\n",
      "  Memory Size : 4 bytes\n",
      "\n",
      "int64_var:\n",
      "  Value       : 9223372036854775807\n",
      "  Type        : Int64\n",
      "  Memory Size : 8 bytes\n",
      "\n",
      "uint8_var:\n",
      "  Value       : 255\n",
      "  Type        : UInt8\n",
      "  Memory Size : 1 bytes\n",
      "\n",
      "uint16_var:\n",
      "  Value       : 65535\n",
      "  Type        : UInt16\n",
      "  Memory Size : 2 bytes\n",
      "\n",
      "uint32_var:\n",
      "  Value       : 4294967295\n",
      "  Type        : UInt32\n",
      "  Memory Size : 4 bytes\n",
      "\n",
      "uint64_var:\n",
      "  Value       : 18446744073709551615\n",
      "  Type        : UInt64\n",
      "  Memory Size : 8 bytes\n",
      "\n",
      "++++++++++++++++++++++++++++++++++++++++++++++++++++++++++++\n"
     ]
    }
   ],
   "source": [
    "print_banner('+', 60, \"Display information for each Intvariable\")\n",
    "\n",
    "display_variable_info(\"int8_var\", int8_var)\n",
    "display_variable_info(\"int16_var\", int16_var)\n",
    "display_variable_info(\"int32_var\", int32_var)\n",
    "display_variable_info(\"int64_var\", int64_var)\n",
    "display_variable_info(\"uint8_var\", uint8_var)\n",
    "display_variable_info(\"uint16_var\", uint16_var)\n",
    "display_variable_info(\"uint32_var\", uint32_var)\n",
    "display_variable_info(\"uint64_var\", uint64_var)\n",
    "\n",
    "println(repeat('+', 60))"
   ]
  },
  {
   "cell_type": "code",
   "execution_count": null,
   "id": "559a6316-bf98-41c5-951a-5044ca1d403b",
   "metadata": {},
   "outputs": [],
   "source": []
  },
  {
   "cell_type": "code",
   "execution_count": null,
   "id": "cc8d1d7f-9363-4090-8736-f929b9b01bb0",
   "metadata": {},
   "outputs": [],
   "source": []
  }
 ],
 "metadata": {
  "kernelspec": {
   "display_name": "julia 1.10.4",
   "language": "julia",
   "name": "julia-1.10"
  },
  "language_info": {
   "file_extension": ".jl",
   "mimetype": "application/julia",
   "name": "julia",
   "version": "1.10.4"
  }
 },
 "nbformat": 4,
 "nbformat_minor": 5
}
