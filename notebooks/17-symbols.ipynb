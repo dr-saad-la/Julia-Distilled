{
 "cells": [
  {
   "cell_type": "code",
   "execution_count": 1,
   "id": "016bea36-6b11-41a1-b088-f82c6a6160c4",
   "metadata": {
    "tags": []
   },
   "outputs": [],
   "source": [
    "# ---------------------------------------------------------- \n",
    "#    Chap 01: Symbolsin Julia\n",
    "#    Author: Dr. Saad Laouadi\n",
    "# \n",
    "#.   Copyright to Dr Saad Laouadi\n",
    "#   Using the examples from the notebook directly into \n",
    "#.  lecture is not allowed.\n",
    "# -----------------------------------------------------------"
   ]
  },
  {
   "cell_type": "markdown",
   "id": "0fe80967-1541-41f9-a238-eaaaf06451ad",
   "metadata": {},
   "source": [
    "## Symbols in Julia "
   ]
  },
  {
   "cell_type": "code",
   "execution_count": 2,
   "id": "25d7832c-4bd5-4059-9839-e07dbe4ab407",
   "metadata": {
    "tags": []
   },
   "outputs": [],
   "source": [
    "function print_banner(char::Char, num_chars::Int, message::String)\n",
    "    border = repeat(string(char), num_chars)\n",
    "    \n",
    "    total_padding = num_chars - length(message)\n",
    "    left_padding = total_padding ÷ 2\n",
    "    right_padding = total_padding - left_padding\n",
    "    \n",
    "    centered_message = repeat(\" \", \n",
    "        left_padding) * message * repeat(\" \", right_padding)\n",
    "    \n",
    "    println(border)\n",
    "    println(centered_message)\n",
    "    println(border)\n",
    "end;"
   ]
  },
  {
   "cell_type": "code",
   "execution_count": 3,
   "id": "ae8e71b5-5373-4712-b65e-5c999a6c519c",
   "metadata": {
    "tags": []
   },
   "outputs": [],
   "source": [
    "# Different ways to create symbols\n",
    "symbol1 = :a                                # Creating a symbol with a single character\n",
    "symbol2 = Symbol(\"b\")                       # Creating a symbol from a string\n",
    "symbol3 = Symbol(\"my_symbol\")               # Creating a symbol with multiple characters\n",
    "symbol4 = Symbol()                          # Creating an empty symbol (uncommon)\n",
    "symbol5 = Symbol(:c);                       # Converting an existing symbol to a symbol (redundant but possible)"
   ]
  },
  {
   "cell_type": "code",
   "execution_count": 4,
   "id": "7ea82e35-f2f1-4890-9ed0-ad445bbe5e63",
   "metadata": {
    "tags": []
   },
   "outputs": [
    {
     "name": "stdout",
     "output_type": "stream",
     "text": [
      "++++++++++++++++++++++++++++++++++++++++++++++++++++++++++++\n",
      "                      Symbols in Julia                      \n",
      "++++++++++++++++++++++++++++++++++++++++++++++++++++++++++++\n",
      "symbol1: a\n",
      "symbol2: b\n",
      "symbol3: my_symbol\n",
      "symbol4: \n",
      "symbol5: c\n",
      "++++++++++++++++++++++++++++++++++++++++++++++++++++++++++++++\n",
      "                Basic Operations with Symbols                 \n",
      "++++++++++++++++++++++++++++++++++++++++++++++++++++++++++++++\n",
      "  Is symbol1 equal to symbol2?: false\n",
      "  Is symbol1 equal to symbol1?: true\n",
      "  Converting symbol1 to string: a\n",
      "  Type of symbol3: Symbol\n",
      "++++++++++++++++++++++++++++++++++++++++++++++++++++++++++++++\n",
      "              Creating Symbols Using Expressions              \n",
      "++++++++++++++++++++++++++++++++++++++++++++++++++++++++++++++\n",
      "  Expression with symbols: :x + :y\n",
      "  Type of the expression: Expr\n",
      "++++++++++++++++++++++++++++++++++++++++++++++++++++++++++++++\n",
      "                Using Symbols in Dictionaries                 \n",
      "++++++++++++++++++++++++++++++++++++++++++++++++++++++++++++++\n",
      "  Dictionary with symbols as keys:\n",
      "\tDict(:version => \"1.8\", :type => \"programming language\", :name => \"Julia\")\n",
      "  Accessing value with key :name:\n",
      "\tJulia\n",
      "  Iterating over dictionary with symbols as keys: \n",
      "    version => 1.8\n",
      "    type => programming language\n",
      "    name => Julia\n",
      "++++++++++++++++++++++++++++++++++++++++++++++++++++++++++++++\n",
      "                  Symbols with Comprehension                  \n",
      "++++++++++++++++++++++++++++++++++++++++++++++++++++++++++++++\n",
      "symbols_comprehension: [:symbol_1, :symbol_2, :symbol_3, :symbol_4, :symbol_5]\n",
      "++++++++++++++++++++++++++++++++++++++++++++++++++++++++++++\n"
     ]
    }
   ],
   "source": [
    "print_banner('+', 60, \"Symbols in Julia\")\n",
    "\n",
    "# Displaying symbols\n",
    "println(\"symbol1: \", symbol1)\n",
    "println(\"symbol2: \", symbol2)\n",
    "println(\"symbol3: \", symbol3)\n",
    "println(\"symbol4: \", symbol4)\n",
    "println(\"symbol5: \", symbol5)\n",
    "\n",
    "# Basic operations with symbols\n",
    "print_banner('+', 62, \"Basic Operations with Symbols\")\n",
    "\n",
    "# Checking if two symbols are the same\n",
    "println(\"  Is symbol1 equal to symbol2?: \", symbol1 == symbol2)\n",
    "println(\"  Is symbol1 equal to symbol1?: \", symbol1 == symbol1)\n",
    "\n",
    "# Converting symbol to string\n",
    "symbol1_str = string(symbol1)\n",
    "println(\"  Converting symbol1 to string: \", symbol1_str)\n",
    "\n",
    "# Checking the type of a symbol\n",
    "println(\"  Type of symbol3: \", typeof(symbol3))\n",
    "\n",
    "# Creating symbols using expressions\n",
    "print_banner('+', 62, \"Creating Symbols Using Expressions\")\n",
    "\n",
    "expr = :(:x + :y)                     # Creating an expression with symbols\n",
    "println(\"  Expression with symbols: \", expr)\n",
    "println(\"  Type of the expression: \", typeof(expr))\n",
    "\n",
    "# Using symbols in dictionaries (common use case)\n",
    "print_banner('+', 62, \"Using Symbols in Dictionaries\")\n",
    "\n",
    "symbol_dict = Dict(:name => \"Julia\", :version => \"1.8\", :type => \"programming language\")\n",
    "println(\"  Dictionary with symbols as keys:\\n\\t\", symbol_dict)\n",
    "println(\"  Accessing value with key :name:\\n\\t\", symbol_dict[:name])\n",
    "\n",
    "# Iterating over dictionary with symbols as keys\n",
    "println(\"  Iterating over dictionary with symbols as keys: \")\n",
    "for (key, value) in symbol_dict\n",
    "    println(\"    \", key, \" => \", value)\n",
    "end\n",
    "\n",
    "# Creating symbols using comprehensions\n",
    "print_banner('+', 62, \"Symbols with Comprehension\")\n",
    "symbols_comprehension = [Symbol(\"symbol_$i\") for i in 1:5]\n",
    "\n",
    "# Displaying symbols created using comprehensions\n",
    "println(\"symbols_comprehension: \", symbols_comprehension)\n",
    "\n",
    "println(repeat('+', 60))"
   ]
  },
  {
   "cell_type": "code",
   "execution_count": null,
   "id": "6c1eacdb-895a-45cb-97f1-296f3f92b3d3",
   "metadata": {},
   "outputs": [],
   "source": []
  }
 ],
 "metadata": {
  "kernelspec": {
   "display_name": "julia 1.10.4",
   "language": "julia",
   "name": "julia-1.10"
  },
  "language_info": {
   "file_extension": ".jl",
   "mimetype": "application/julia",
   "name": "julia",
   "version": "1.10.4"
  }
 },
 "nbformat": 4,
 "nbformat_minor": 5
}
