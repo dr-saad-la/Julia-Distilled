{
 "cells": [
  {
   "cell_type": "markdown",
   "id": "b14943a9-12da-469a-89a2-abf9dd14e9b8",
   "metadata": {},
   "source": [
    "## Variables in Julia "
   ]
  },
  {
   "cell_type": "code",
   "execution_count": 4,
   "id": "d94c30bc-f878-46f7-8f77-48ca8482c4e6",
   "metadata": {
    "tags": []
   },
   "outputs": [],
   "source": [
    "# A function to print a nice banner on the stdouot\n",
    "function print_banner(char::Char, num_chars::Int, message::String)\n",
    "    border = repeat(string(char), num_chars)\n",
    "    \n",
    "    total_padding = num_chars - length(message)\n",
    "    left_padding = total_padding ÷ 2\n",
    "    right_padding = total_padding - left_padding\n",
    "    \n",
    "    centered_message = repeat(\" \", \n",
    "        left_padding) * message * repeat(\" \", right_padding)\n",
    "    \n",
    "    println(border)\n",
    "    println(centered_message)\n",
    "    println(border)\n",
    "end;"
   ]
  },
  {
   "cell_type": "code",
   "execution_count": 5,
   "id": "a8d574b9-e7d7-4290-baec-a9a9a64d730e",
   "metadata": {
    "tags": []
   },
   "outputs": [
    {
     "name": "stdout",
     "output_type": "stream",
     "text": [
      "++++++++++++++++++++++++++++++++++++++++++++++++++++++++++++\n",
      "               Valid Variable Names in Julia                \n",
      "++++++++++++++++++++++++++++++++++++++++++++++++++++++++++++\n",
      "x =             10\n",
      "y1 =            3.14\n",
      "_myVariable =   Hello, World!\n",
      "data123 =       [1, 2, 3, 4, 5]\n",
      "αβγ =           Unicode characters are allowed\n",
      "π =             3.14159\n",
      "++++++++++++++++++++++++++++++++++++++++++++++++++++++++++++\n"
     ]
    }
   ],
   "source": [
    "print_banner('+', 60, \"Valid Variable Names in Julia\");\n",
    "x = 10\n",
    "y1 = 3.14\n",
    "_myVariable = \"Hello, World!\"\n",
    "data123 = [1, 2, 3, 4, 5]\n",
    "αβγ = \"Unicode characters are allowed\"\n",
    "π = 3.14159\n",
    "\n",
    "println(\"x =             $x\")\n",
    "println(\"y1 =            $y1\")\n",
    "println(\"_myVariable =   $_myVariable\")\n",
    "println(\"data123 =       $data123\")\n",
    "println(\"αβγ =           $αβγ\")\n",
    "println(\"π =             $π\")\n",
    "println(repeat('+', 60))"
   ]
  },
  {
   "cell_type": "code",
   "execution_count": 6,
   "id": "5e2394b6-f35b-439c-8fe4-60340d0b01af",
   "metadata": {
    "tags": []
   },
   "outputs": [
    {
     "name": "stdout",
     "output_type": "stream",
     "text": [
      "++++++++++++++++++++++++++++++++++++++++++++++++++++++++++++\n",
      "                   Invalid Variable Names                   \n",
      "++++++++++++++++++++++++++++++++++++++++++++++++++++++++++++\n",
      "# 1x = 10           # Cannot start with a digit\n",
      "# my-variable = 20  # Hyphens are not allowed\n",
      "# data! = 30        # Exclamation mark is not allowed\n",
      "# for = 40          # Reserved keyword\n",
      "++++++++++++++++++++++++++++++++++++++++++++++++++++++++++++\n"
     ]
    }
   ],
   "source": [
    "print_banner('+', 60, \"Invalid Variable Names\");\n",
    "\n",
    "# Uncommenting these will cause errors\"\n",
    "# 1x = 10           # Cannot start with a digit\n",
    "# my-variable = 20  # Hyphens are not allowed\n",
    "# data! = 30        # Exclamation mark is not allowed\n",
    "# for = 40          # Reserved keyword\n",
    "\n",
    "println(\"# 1x = 10           # Cannot start with a digit\")\n",
    "println(\"# my-variable = 20  # Hyphens are not allowed\")\n",
    "println(\"# data! = 30        # Exclamation mark is not allowed\")\n",
    "println(\"# for = 40          # Reserved keyword\")\n",
    "println(repeat('+', 60))"
   ]
  },
  {
   "cell_type": "code",
   "execution_count": null,
   "id": "bd526b26-d5e0-49dd-b3be-aa970073648f",
   "metadata": {},
   "outputs": [],
   "source": []
  }
 ],
 "metadata": {
  "kernelspec": {
   "display_name": "julia 1.10.4",
   "language": "julia",
   "name": "julia-1.10"
  },
  "language_info": {
   "file_extension": ".jl",
   "mimetype": "application/julia",
   "name": "julia",
   "version": "1.10.4"
  }
 },
 "nbformat": 4,
 "nbformat_minor": 5
}
