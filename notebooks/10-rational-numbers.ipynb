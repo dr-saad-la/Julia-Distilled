{
 "cells": [
  {
   "cell_type": "code",
   "execution_count": 1,
   "id": "016bea36-6b11-41a1-b088-f82c6a6160c4",
   "metadata": {
    "tags": []
   },
   "outputs": [],
   "source": [
    "# ---------------------------------------------------------- \n",
    "#    Chap 01: Rational Numbers in Julia\n",
    "#    Author: Dr. Saad Laouadi\n",
    "# \n",
    "#.   Copyright to Dr Saad Laouadi\n",
    "#   Using the examples from the notebook directly into \n",
    "#.  lecture is not allowed.\n",
    "# -----------------------------------------------------------"
   ]
  },
  {
   "cell_type": "markdown",
   "id": "0fe80967-1541-41f9-a238-eaaaf06451ad",
   "metadata": {},
   "source": [
    "## Rational Numbers in Julia "
   ]
  },
  {
   "cell_type": "code",
   "execution_count": 2,
   "id": "25d7832c-4bd5-4059-9839-e07dbe4ab407",
   "metadata": {
    "tags": []
   },
   "outputs": [],
   "source": [
    "# Code used for examples in this notebook\n",
    "using Base\n",
    "function print_banner(char::Char, num_chars::Int, message::String)\n",
    "    border = repeat(string(char), num_chars)\n",
    "    \n",
    "    total_padding = num_chars - length(message)\n",
    "    left_padding = total_padding ÷ 2\n",
    "    right_padding = total_padding - left_padding\n",
    "    \n",
    "    centered_message = repeat(\" \", \n",
    "        left_padding) * message * repeat(\" \", right_padding)\n",
    "    \n",
    "    println(border)\n",
    "    println(centered_message)\n",
    "    println(border)\n",
    "end;\n",
    "\n",
    "# Function to display the type and size of a variable\n",
    "function display_variable_info(var_name::String, var_value)\n",
    "    println(\"$var_name:\")\n",
    "    println(\"  Value       : $var_value\")\n",
    "    println(\"  Type        : $(typeof(var_value))\")\n",
    "    println(\"  Memory Size : $(sizeof(var_value)) bytes\")\n",
    "    println()\n",
    "end;"
   ]
  },
  {
   "cell_type": "code",
   "execution_count": 3,
   "id": "ae8e71b5-5373-4712-b65e-5c999a6c519c",
   "metadata": {
    "tags": []
   },
   "outputs": [],
   "source": [
    "# Define rational number variables\n",
    "rational1::Rational{Int64} = 3//4         # Rational number with Int64 parts\n",
    "rational2::Rational{Int64} = 7//8         # Rational number with Int64 parts\n",
    "rational3::Rational{Int64} = 5//6;        # Rational number with Int64 parts"
   ]
  },
  {
   "cell_type": "code",
   "execution_count": 4,
   "id": "7ea82e35-f2f1-4890-9ed0-ad445bbe5e63",
   "metadata": {
    "tags": []
   },
   "outputs": [
    {
     "name": "stdout",
     "output_type": "stream",
     "text": [
      "++++++++++++++++++++++++++++++++++++++++++++++++++++++++++++\n",
      "         Display information about Complex Numbers          \n",
      "++++++++++++++++++++++++++++++++++++++++++++++++++++++++++++\n",
      "rational1:\n",
      "  Value       : 3//4\n",
      "  Type        : Rational{Int64}\n",
      "  Memory Size : 16 bytes\n",
      "\n",
      "rational2:\n",
      "  Value       : 7//8\n",
      "  Type        : Rational{Int64}\n",
      "  Memory Size : 16 bytes\n",
      "\n",
      "rational3:\n",
      "  Value       : 5//6\n",
      "  Type        : Rational{Int64}\n",
      "  Memory Size : 16 bytes\n",
      "\n",
      "++++++++++++++++++++++++++++++++++++++++++++++++++++++++++++\n",
      "           Basic Operations with Rational Numbers           \n",
      "++++++++++++++++++++++++++++++++++++++++++++++++++++++++++++\n",
      "  rational1 + rational2    : 13//8\n",
      "  rational1 - rational2    : -1//8\n",
      "  rational1 * rational2    : 21//32\n",
      "  rational1 / rational2    : 6//7\n",
      "  Convert rational1 to float: 0.75\n",
      "  Numerator of rational1   : 3\n",
      "  Denominator of rational1 : 4\n",
      "++++++++++++++++++++++++++++++++++++++++++++++++++++++++++++\n"
     ]
    }
   ],
   "source": [
    "print_banner('+', 60, \"Display information about Complex Numbers\")\n",
    "\n",
    "# Display information for each rational number variable\n",
    "display_variable_info(\"rational1\", rational1)\n",
    "display_variable_info(\"rational2\", rational2)\n",
    "display_variable_info(\"rational3\", rational3)\n",
    "\n",
    "# Operations with rational numbers\n",
    "print_banner('+', 60, \"Basic Operations with Rational Numbers\")\n",
    "\n",
    "\n",
    "# Addition\n",
    "add_result = rational1 + rational2\n",
    "println(\"  rational1 + rational2    : \", add_result)\n",
    "\n",
    "# Subtraction\n",
    "sub_result = rational1 - rational2\n",
    "println(\"  rational1 - rational2    : \", sub_result)\n",
    "\n",
    "# Multiplication\n",
    "mul_result = rational1 * rational2\n",
    "println(\"  rational1 * rational2    : \", mul_result)\n",
    "\n",
    "# Division\n",
    "div_result = rational1 / rational2\n",
    "println(\"  rational1 / rational2    : \", div_result)\n",
    "\n",
    "# Convert to float\n",
    "float_result = float(rational1)\n",
    "println(\"  Convert rational1 to float: \", float_result)\n",
    "\n",
    "# Numerator and Denominator\n",
    "numerator_value = numerator(rational1)\n",
    "denominator_value = denominator(rational1)\n",
    "println(\"  Numerator of rational1   : \", numerator_value)\n",
    "println(\"  Denominator of rational1 : \", denominator_value)\n",
    "\n",
    "println(repeat('+', 60))"
   ]
  },
  {
   "cell_type": "code",
   "execution_count": null,
   "id": "d9001013-b560-4281-bf29-53b8239c9b09",
   "metadata": {},
   "outputs": [],
   "source": []
  }
 ],
 "metadata": {
  "kernelspec": {
   "display_name": "julia 1.10.4",
   "language": "julia",
   "name": "julia-1.10"
  },
  "language_info": {
   "file_extension": ".jl",
   "mimetype": "application/julia",
   "name": "julia",
   "version": "1.10.4"
  }
 },
 "nbformat": 4,
 "nbformat_minor": 5
}
