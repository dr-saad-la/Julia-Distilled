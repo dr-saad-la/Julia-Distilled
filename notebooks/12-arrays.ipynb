{
 "cells": [
  {
   "cell_type": "code",
   "execution_count": 1,
   "id": "016bea36-6b11-41a1-b088-f82c6a6160c4",
   "metadata": {
    "tags": []
   },
   "outputs": [],
   "source": [
    "# ---------------------------------------------------------- \n",
    "#    Chap 01: Arrays in Julia\n",
    "#    Author: Dr. Saad Laouadi\n",
    "# \n",
    "#.   Copyright to Dr Saad Laouadi\n",
    "#   Using the examples from the notebook directly into \n",
    "#.  lecture is not allowed.\n",
    "# -----------------------------------------------------------"
   ]
  },
  {
   "cell_type": "markdown",
   "id": "0fe80967-1541-41f9-a238-eaaaf06451ad",
   "metadata": {},
   "source": [
    "## Arrays in Julia "
   ]
  },
  {
   "cell_type": "code",
   "execution_count": 6,
   "id": "25d7832c-4bd5-4059-9839-e07dbe4ab407",
   "metadata": {
    "tags": []
   },
   "outputs": [],
   "source": [
    "function print_banner(char::Char, num_chars::Int, message::String)\n",
    "    border = repeat(string(char), num_chars)\n",
    "    \n",
    "    total_padding = num_chars - length(message)\n",
    "    left_padding = total_padding ÷ 2\n",
    "    right_padding = total_padding - left_padding\n",
    "    \n",
    "    centered_message = repeat(\" \", \n",
    "        left_padding) * message * repeat(\" \", right_padding)\n",
    "    \n",
    "    println(border)\n",
    "    println(centered_message)\n",
    "    println(border)\n",
    "end;"
   ]
  },
  {
   "cell_type": "code",
   "execution_count": 8,
   "id": "ae8e71b5-5373-4712-b65e-5c999a6c519c",
   "metadata": {
    "tags": []
   },
   "outputs": [
    {
     "data": {
      "text/plain": [
       "3-element Vector{String}:\n",
       " \"apple\"\n",
       " \"banana\"\n",
       " \"cherry\""
      ]
     },
     "execution_count": 8,
     "metadata": {},
     "output_type": "execute_result"
    }
   ],
   "source": [
    "# Different ways to create arrays\n",
    "array1 = [1, 2, 3, 4, 5]                  # Creating an array with specific elements\n",
    "array2 = Int[]                            # Creating an empty array of integers\n",
    "array3 = fill(0, 5)                       # Creating an array filled with a specific value\n",
    "array4 = zeros(5)                         # Creating an array of zeros\n",
    "array5 = ones(5)                          # Creating an array of ones\n",
    "array6 = collect(1:5)                     # Creating an array from a range\n",
    "array7 = [i^2 for i in 1:5]               # Creating an array using comprehension\n",
    "array8 = collect(10:-2:0)                 # Creating an array from a range with step -2\n",
    "array9 = ['a', 'b', 'c', 'd', 'e']        # Creating an array of characters\n",
    "array10 = [\"apple\", \"banana\", \"cherry\"]   # Creating an array of strings"
   ]
  },
  {
   "cell_type": "code",
   "execution_count": 9,
   "id": "7ea82e35-f2f1-4890-9ed0-ad445bbe5e63",
   "metadata": {
    "tags": []
   },
   "outputs": [
    {
     "name": "stdout",
     "output_type": "stream",
     "text": [
      "++++++++++++++++++++++++++++++++++++++++++++++++++++++++++++\n",
      "                      Ranges in Julia                       \n",
      "++++++++++++++++++++++++++++++++++++++++++++++++++++++++++++\n",
      "array1: [1, 2, 3, 4, 5]\n",
      "array2: Int64[]\n",
      "array3: [0, 0, 0, 0, 0]\n",
      "array4: [0.0, 0.0, 0.0, 0.0, 0.0]\n",
      "array5: [1.0, 1.0, 1.0, 1.0, 1.0]\n",
      "array6: [1, 2, 3, 4, 5]\n",
      "array7: [1, 4, 9, 16, 25]\n",
      "array8: [10, 8, 6, 4, 2, 0]\n",
      "array9: ['a', 'b', 'c', 'd', 'e']\n",
      "array10: [\"apple\", \"banana\", \"cherry\"]\n",
      "++++++++++++++++++++++++++++++++++++++++++++++++++++++++++++\n",
      "                Basic operations with arrays                \n",
      "++++++++++++++++++++++++++++++++++++++++++++++++++++++++++++\n",
      "  First element of array1: 1\n",
      "  Last element of array1 : 5\n",
      "  Modified array1: [1, 10, 3, 4, 5]\n",
      "  Length of array1: 5\n",
      "  array2 after push!: [1, 2, 3, 4, 5]\n",
      "  array2 after pop!: [1, 2, 3, 4]\n",
      "  Concatenated array: [1, 2, 3, 4, 5, 6]\n",
      "  Array comprehension (multiplication table): \n",
      "[1 2 3; 2 4 6; 3 6 9]\n",
      "  Reshaped array14 (2x3): \n",
      "[1 3 5; 2 4 6]\n",
      "\n",
      "Operations with Arrays of Characters and Strings:\n",
      "  First character in array9: a\n",
      "  Last character in array9 : e\n",
      "  First string in array10: apple\n",
      "  Last string in array10 : cherry\n",
      "  Modified array9: ['a', 'z', 'c', 'd', 'e']\n",
      "  Modified array10: [\"apple\", \"blueberry\", \"cherry\"]\n",
      "++++++++++++++++++++++++++++++++++++++++++++++++++++++++++++\n"
     ]
    }
   ],
   "source": [
    "print_banner('+', 60, \"Ranges in Julia\")\n",
    "\n",
    "# Displaying arrays\n",
    "println(\"array1: \", array1)\n",
    "println(\"array2: \", array2)\n",
    "println(\"array3: \", array3)\n",
    "println(\"array4: \", array4)\n",
    "println(\"array5: \", array5)\n",
    "println(\"array6: \", array6)\n",
    "println(\"array7: \", array7)\n",
    "println(\"array8: \", array8)\n",
    "println(\"array9: \", array9)\n",
    "println(\"array10: \", array10)\n",
    "\n",
    "print_banner('+', 60, \"Basic operations with arrays\")\n",
    "# Accessing elements\n",
    "println(\"  First element of array1: \", array1[1])\n",
    "println(\"  Last element of array1 : \", array1[end])\n",
    "\n",
    "# Modifying elements\n",
    "array1[2] = 10\n",
    "println(\"  Modified array1: \", array1)\n",
    "\n",
    "# Array length\n",
    "println(\"  Length of array1: \", length(array1))\n",
    "\n",
    "# Adding elements\n",
    "push!(array2, 1)\n",
    "push!(array2, 2, 3, 4, 5)\n",
    "println(\"  array2 after push!: \", array2)\n",
    "\n",
    "# Removing elements\n",
    "pop!(array2)\n",
    "println(\"  array2 after pop!: \", array2)\n",
    "\n",
    "# Concatenation\n",
    "array11 = [1, 2, 3]\n",
    "array12 = [4, 5, 6]\n",
    "concatenated_array = vcat(array11, array12)\n",
    "println(\"  Concatenated array: \", concatenated_array)\n",
    "\n",
    "# Array comprehensions\n",
    "array13 = [x * y for x in 1:3, y in 1:3]\n",
    "println(\"  Array comprehension (multiplication table): \")\n",
    "println(array13)\n",
    "\n",
    "# Reshaping arrays\n",
    "array14 = collect(1:6)\n",
    "reshaped_array = reshape(array14, 2, 3)\n",
    "println(\"  Reshaped array14 (2x3): \")\n",
    "println(reshaped_array)\n",
    "\n",
    "# Additional operations with arrays of characters and strings\n",
    "println(\"\\nOperations with Arrays of Characters and Strings:\")\n",
    "\n",
    "# Accessing elements in array9\n",
    "println(\"  First character in array9: \", array9[1])\n",
    "println(\"  Last character in array9 : \", array9[end])\n",
    "\n",
    "# Accessing elements in array10\n",
    "println(\"  First string in array10: \", array10[1])\n",
    "println(\"  Last string in array10 : \", array10[end])\n",
    "\n",
    "# Modifying elements in array9\n",
    "array9[2] = 'z'\n",
    "println(\"  Modified array9: \", array9)\n",
    "\n",
    "# Modifying elements in array10\n",
    "array10[2] = \"blueberry\"\n",
    "println(\"  Modified array10: \", array10)\n",
    "\n",
    "println(repeat('+', 60))"
   ]
  },
  {
   "cell_type": "code",
   "execution_count": null,
   "id": "192f8f76-c668-4da0-b83c-fced23863ab7",
   "metadata": {},
   "outputs": [],
   "source": []
  }
 ],
 "metadata": {
  "kernelspec": {
   "display_name": "julia 1.10.4",
   "language": "julia",
   "name": "julia-1.10"
  },
  "language_info": {
   "file_extension": ".jl",
   "mimetype": "application/julia",
   "name": "julia",
   "version": "1.10.4"
  }
 },
 "nbformat": 4,
 "nbformat_minor": 5
}
